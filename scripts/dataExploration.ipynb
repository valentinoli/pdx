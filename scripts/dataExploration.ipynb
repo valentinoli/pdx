{
 "cells": [
  {
   "cell_type": "code",
   "execution_count": null,
   "metadata": {},
   "outputs": [],
   "source": [
    "%matplotlib inline\n",
    "# misc. libraries\n",
    "import pandas as pd\n",
    "import numpy as np\n",
    "\n",
    "# plotting libraries\n",
    "import matplotlib.pyplot as plt\n",
    "import seaborn as sns\n",
    "\n",
    "# ml libraries\n",
    "from sklearn import cluster, metrics\n",
    "from sklearn.decomposition import PCA\n",
    "\n",
    "import inspect\n",
    "\n",
    "%load_ext autoreload\n",
    "%autoreload 2"
   ]
  },
  {
   "cell_type": "code",
   "execution_count": null,
   "metadata": {},
   "outputs": [],
   "source": [
    "# local dependencies\n",
    "from helpers import *"
   ]
  },
  {
   "cell_type": "markdown",
   "metadata": {},
   "source": [
    "+ **DHT:** Dihydrotestosterone is an endogenous androgen sex steroid and hormone\n",
    "+ **E2:** Estradiol (E2), also spelled oestradiol, is an estrogen steroid hormone and the major female sex hormone\n",
    "+ **P4:**  Progesterone (P4) is an endogenous steroid and progestogen sex hormone involved in the menstrual cycle, pregnancy, and embryogenesis of humans and other species"
   ]
  },
  {
   "cell_type": "markdown",
   "metadata": {},
   "source": [
    "***\n",
    "**Data loading and manipulation**\n",
    "***"
   ]
  },
  {
   "cell_type": "code",
   "execution_count": null,
   "metadata": {},
   "outputs": [],
   "source": [
    "# Raw information about genes\n",
    "genes = load_genes()\n",
    "genes"
   ]
  },
  {
   "cell_type": "code",
   "execution_count": null,
   "metadata": {},
   "outputs": [],
   "source": [
    "# Preprocessed list of genes\n",
    "genes_list = load_genes_list()\n",
    "genes_list.head(2)"
   ]
  },
  {
   "cell_type": "code",
   "execution_count": null,
   "metadata": {},
   "outputs": [],
   "source": [
    "# Genes showing response to two hormones\n",
    "genes_list[genes_list[[\"dht\", \"e2\", \"p4\"]].sum(axis=1) == 2]"
   ]
  },
  {
   "cell_type": "code",
   "execution_count": null,
   "metadata": {},
   "outputs": [],
   "source": [
    "# Load TCGA patient data (first part)\n",
    "patients = load_patients()\n",
    "patients.head(2)"
   ]
  },
  {
   "cell_type": "code",
   "execution_count": null,
   "metadata": {},
   "outputs": [],
   "source": [
    "patients.describe()"
   ]
  },
  {
   "cell_type": "code",
   "execution_count": null,
   "metadata": {},
   "outputs": [],
   "source": [
    "# Load TCGA patient data (second part)\n",
    "patients2 = load_patients2()\n",
    "patients2.head(2)"
   ]
  },
  {
   "cell_type": "code",
   "execution_count": null,
   "metadata": {},
   "outputs": [],
   "source": [
    "genes_not_found = list(set(genes_list.genes) - set(patients.columns))\n",
    "\n",
    "print(f\"Genes not found in the patients datasets:\\n{genes_not_found}\")"
   ]
  },
  {
   "cell_type": "code",
   "execution_count": null,
   "metadata": {},
   "outputs": [],
   "source": [
    "# Load PDX tumor data\n",
    "pdx = load_pdx()\n",
    "pdx.head()"
   ]
  },
  {
   "cell_type": "code",
   "execution_count": null,
   "metadata": {},
   "outputs": [],
   "source": [
    "# Label genes into three categories according to list of genes\n",
    "# genes_labeled = pd.DataFrame(genes_list, columns=[\"genes\"])\n",
    "# genes_labeled[\"label\"] = genes_list.replace([\"dht\", \"p4\", \"e2\"], [0, 1, 2])[\"label\"]\n",
    "# genes_labeled.head()\n",
    "genes_expressed = genes_list.genes[~genes_list.genes.isin(genes_not_found)]\n",
    "genes_expressed"
   ]
  },
  {
   "cell_type": "markdown",
   "metadata": {},
   "source": [
    "***\n",
    "**Exploratory data analysis**\n",
    "***"
   ]
  },
  {
   "cell_type": "code",
   "execution_count": null,
   "metadata": {},
   "outputs": [],
   "source": [
    "def plot_corr(corr, filename='corr.png'):\n",
    "    tril_abs_corr = np.abs(np.tril(corr, k=-1))\n",
    "\n",
    "    plt.figure(figsize=(25, 25))\n",
    "\n",
    "    heatmap = sns.heatmap(\n",
    "        tril_abs_corr,\n",
    "        square=True,\n",
    "        linewidths=.005,\n",
    "        xticklabels=genes_expressed,\n",
    "        yticklabels=genes_expressed,\n",
    "        mask=(tril_abs_corr == 0)  # mask cells with missing values\n",
    "    )\n",
    "    fig = heatmap.get_figure()\n",
    "    fig.savefig(f\"../data/{filename}\")"
   ]
  },
  {
   "cell_type": "code",
   "execution_count": null,
   "metadata": {},
   "outputs": [],
   "source": [
    "pdx_corr = pdx.corr()\n",
    "plot_corr(pdx_corr, 'corr_pdx.png')"
   ]
  },
  {
   "cell_type": "code",
   "execution_count": null,
   "metadata": {},
   "outputs": [],
   "source": [
    "patients_corr = patients.corr()\n",
    "plot_corr(patients_corr, 'corr_patients.png')"
   ]
  },
  {
   "cell_type": "code",
   "execution_count": null,
   "metadata": {},
   "outputs": [],
   "source": [
    "# High correlations in patients data match with correlations found in PDX genes-data!\n",
    "patients_corr[((patients_corr < -0.6) | (0.6 < patients_corr)) & (patients_corr != 1.0)].stack()"
   ]
  },
  {
   "cell_type": "code",
   "execution_count": null,
   "metadata": {},
   "outputs": [],
   "source": [
    "# Even more correlations in the second patients dataset that match!\n",
    "# Can we therefore conclude that we can expect better/consistent results for this dataset \n",
    "# when we run the methods trained on the PDX data?\n",
    "patients2_corr = patients2.corr()\n",
    "patients2_corr[(patients2_corr < -.3) & (patients2_corr != 1.0)].stack()"
   ]
  },
  {
   "cell_type": "markdown",
   "metadata": {},
   "source": [
    "***\n",
    "**Feature processing**\n",
    "***"
   ]
  },
  {
   "cell_type": "markdown",
   "metadata": {},
   "source": [
    "Let's try to reduce the dimensionality of the input space, i.e. the linear mapping of our D-dimensional input into a K-dimensional space $K\\leq D$ that best represents the original data."
   ]
  },
  {
   "cell_type": "code",
   "execution_count": null,
   "metadata": {},
   "outputs": [],
   "source": [
    "# PCA decomposition of original gene list\n",
    "# we want to verify that the pre-selected genes are linearly independent\n",
    "\n",
    "pca = PCA()\n",
    "pca.fit(genes_list)\n",
    "PCA(copy=True, iterated_power='auto', n_components=None,\n",
    "    random_state=None, svd_solver='auto', tol=0.0, whiten=False)\n",
    "\n",
    "# Explained variance by PCA\n",
    "# print(pca.explained_variance_)\n",
    "\n",
    "# Singular values of PCA\n",
    "# print(pca.singular_values_)\n",
    "\n",
    "y_pos = np.arange(len(pca.singular_values_))\n",
    "plt.bar(y_pos, pca.singular_values_, align='center', alpha=0.5)\n",
    "plt.ylabel('Values')\n",
    "plt.xlabel('Principal components')\n",
    "plt.title('PCA - Singular values')\n",
    "plt.show()\n",
    "\n",
    "#\n",
    "#pca.n_components = 2\n",
    "#X_reduced = pca.fit_transform(X)\n",
    "# X_reduced.shape"
   ]
  },
  {
   "cell_type": "markdown",
   "metadata": {},
   "source": [
    "***\n",
    "**Clustering**\n",
    "***"
   ]
  },
  {
   "cell_type": "code",
   "execution_count": null,
   "metadata": {},
   "outputs": [],
   "source": [
    "X = pdx.drop(\"label\", axis=1)\n",
    "y = pdx.label\n",
    "\n",
    "clus = cluster.AgglomerativeClustering(n_clusters=7)  # , affinity='manhattan', linkage='average')\n",
    "predicted = clus.fit_predict(X)\n",
    "\n",
    "# calculate score\n",
    "score = metrics.adjusted_rand_score(y, predicted)\n",
    "print(score)\n",
    "# accuracy, f2 = performance(predicted)"
   ]
  },
  {
   "cell_type": "markdown",
   "metadata": {},
   "source": [
    "***\n",
    "**Spectral Clustering**\n",
    "***"
   ]
  },
  {
   "cell_type": "code",
   "execution_count": null,
   "metadata": {},
   "outputs": [],
   "source": [
    "clustering = cluster.SpectralClustering(assign_labels=\"discretize\", random_state=0).fit(X)\n",
    "print(\"predicted labels : \" + str(clustering.labels_))\n",
    "print(\"true labels :      \" + str(pdx_labeled.values))\n",
    "print(\"Score : \" + str(metrics.adjusted_rand_score(x, clustering.labels_)))"
   ]
  },
  {
   "cell_type": "markdown",
   "metadata": {},
   "source": [
    "***\n",
    "**K-Means**\n",
    "***"
   ]
  },
  {
   "cell_type": "code",
   "execution_count": null,
   "metadata": {},
   "outputs": [],
   "source": [
    "kmeans = cluster.KMeans(n_clusters=4, random_state=0).fit(X)\n",
    "print(\"predicted labels : \" + str(kmeans.labels_))\n",
    "print(\"true labels :      \" + str(pdx_labeled.values))\n",
    "print(\"Score : \" + str(metrics.adjusted_rand_score(y, kmeans.labels_)))"
   ]
  },
  {
   "cell_type": "code",
   "execution_count": null,
   "metadata": {},
   "outputs": [],
   "source": [
    "# we should rather evaluate with the metrics.adjusted_rand_score function \n",
    "\n",
    "def performance(labels):\n",
    "    '''Evaluate performance of predicted cluster compared to pre-selected gene list'''\n",
    "    # get gene list\n",
    "    geneNP = genes_list.loc[:,'dht':'p4'].astype(int).values  # replace with Boolean values\n",
    "    \n",
    "    nb_clusters = len(np.unique(labels))\n",
    "    accuracy = np.zeros([nb_clusters, 3])\n",
    "    f2 =  np.zeros([nb_clusters, 3])\n",
    "    beta = 2\n",
    "    for i in np.arange(nb_clusters):\n",
    "        label = np.zeros_like(labels)\n",
    "        label[labels == i] = 1\n",
    "        for j in np.arange(geneNP.shape[1]):\n",
    "            # plot confusion matrices\n",
    "            \n",
    "            #cm = metrics.confusion_matrix(geneNP[:,j], label)\n",
    "            #cm = cm.astype('float') / cm.sum(axis=1)[:, np.newaxis]\n",
    "            #fig, ax = plt.subplots()\n",
    "            #im = ax.imshow(cm, interpolation='nearest')\n",
    "            #ax.figure.colorbar(im, ax=ax)\n",
    "            accuracy[i,j] = np.mean(geneNP[:,j]==label)\n",
    "            f2[i,j] = metrics.fbeta_score(geneNP[:,j], label, beta)\n",
    "    return accuracy, f2\n",
    "        "
   ]
  },
  {
   "cell_type": "markdown",
   "metadata": {},
   "source": [
    "***\n",
    "**Principal Component Analysis**\n",
    "***"
   ]
  }
 ],
 "metadata": {
  "kernelspec": {
   "display_name": "Python [conda env:ada] *",
   "language": "python",
   "name": "conda-env-ada-py"
  },
  "language_info": {
   "codemirror_mode": {
    "name": "ipython",
    "version": 3
   },
   "file_extension": ".py",
   "mimetype": "text/x-python",
   "name": "python",
   "nbconvert_exporter": "python",
   "pygments_lexer": "ipython3",
   "version": "3.7.4"
  }
 },
 "nbformat": 4,
 "nbformat_minor": 4
}

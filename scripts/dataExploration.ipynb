{
 "cells": [
  {
   "cell_type": "code",
   "execution_count": 1,
   "metadata": {},
   "outputs": [],
   "source": [
    "%matplotlib inline\n",
    "# misc. libraries\n",
    "import pandas as pd\n",
    "import numpy as np\n",
    "\n",
    "# plotting libraries\n",
    "import matplotlib.pyplot as plt\n",
    "import seaborn as sns\n",
    "\n",
    "# ml libraries\n",
    "from sklearn import cluster, metrics\n",
    "from sklearn.decomposition import PCA\n",
    "\n",
    "import inspect\n",
    "\n",
    "%load_ext autoreload\n",
    "%autoreload 2"
   ]
  },
  {
   "cell_type": "code",
   "execution_count": 127,
   "metadata": {},
   "outputs": [],
   "source": [
    "# local dependencies\n",
    "from load import *\n",
    "from helpers import *\n",
    "from plots import *\n",
    "from constants import *"
   ]
  },
  {
   "cell_type": "markdown",
   "metadata": {},
   "source": [
    "**General notes**\n",
    "* The aim is to find out if the tumor is responding to a specific hormone. This response is \"induced\" in mice by treating them with the hormone. In humans we try to find similar expression patterns to determine if the tumor is driven by a certain hormone. In which case we can group such tumors together for more targeted and better treatment. We know that the patients have a certain type of cancer and this is recorded somewhere although we don't have this information now. If we discover a clear clustering, then it will be valuable to see which cancer types each data point (patient) has. If we interpret each cluster as being certain type of cancer instead of a hormone response, then we will misinterpret the results since the genetic expressions (features) are not results\n",
    "* [Patient derived xenograft, Wikipedia](https://en.wikipedia.org/wiki/Patient_derived_xenograft)\n",
    "* [Few useful things to know about ML](https://homes.cs.washington.edu/~pedrod/papers/cacm12.pdf)\n",
    "* Useful magics:\n",
    "  * `%pycat <filename>` to show a syntax-highlighted file\n",
    "  * `%psource <object>` prints the source code for an object (function, for instance)\n",
    "\n",
    "**Notes from Fabio**\n",
    "* The data include: a matrix from our PDX models stimulated with different hormones (estrogen, progesterone and testosterone) - from which I estimated a list of differentially expressed genes to interrogate the patients' datasets - and a matrix from breast cancer patients retrieved from the TCGA (the Cancer Genome Atlas Consortium - published data).\n",
    "* I suggest you to start testing the list of differentially expressed genes on your training data (PDXs, which is labelled with the correct treatment) that you can use as positive control in order to test the performance of your methods (you can estimate the sensitivity and specificity of the methods that you want to use, so that we can have an idea of which method should be in principle better to use in the patients dataset). Once you will be able to correctly discriminate the samples in the training set, then you can start interrogating the patients' matrix.\n",
    "* Keep in mind that one of the early things that we do when dealing with sequencing data is to get rid of genes that show no or \"minor\" expression overall in the dataset. This means that, for those genes that do not reach a given threshold of expression in a number of patients, they are simply excluded from the analysis because they are supposedly not informative and just confounding the further analysis. Therefore, to some degree, we should expect to have differences in the genes that are expressed. \n",
    "* Regarding the patients data I already gave you they should be already normalized, whereas the new patients' dataset that you downloaded from the Internet  you should make sure it is correctly normalized (for this you should more or less have a normal distribution of your counts and more or less the samples - columns- should have a similar number of counts) and then run the analysis. However, I the interpretation of the PCA plot will not be trivial: since these are patients samples they are likely to be heterogeneous and therefore I do not expect to have a clear clustering of the samples based on their cancer type.\n",
    "* [Informations about drugs used to treat breast cancer](https://www.nature.com/articles/d41573-019-00201-w) over the last decades, to give you an idea of the need for a more personalized medicine.\n",
    "* [Small review on personalized medicine and why it should be pursued](https://notendur.hi.is/~vol1/pdx-papers/nejmsb1503104.pdf)\n",
    "* [Patient-derived xenograft models of breast\n",
    "cancer and their predictive power](https://notendur.hi.is/~vol1/pdx-papers/2015%20PDX%20Breast%20Cancer%20Research.pdf)\n",
    "* [A paper from our lab in which there is the description of our PDX (Patient-Derived Xenograft) model - your training dataset](https://notendur.hi.is/~vol1/pdx-papers/2016%20MIND%20for%20Breast%20Cancer%20Sflomos%20Cancer%20Cell.pdf)"
   ]
  },
  {
   "cell_type": "markdown",
   "metadata": {},
   "source": [
    "+ **DHT:** Dihydrotestosterone is an endogenous androgen sex steroid and hormone\n",
    "+ **E2:** Estradiol (E2), also spelled oestradiol, is an estrogen steroid hormone and the major female sex hormone\n",
    "+ **P4:**  Progesterone (P4) is an endogenous steroid and progestogen sex hormone involved in the menstrual cycle, pregnancy, and embryogenesis of humans and other species"
   ]
  },
  {
   "cell_type": "markdown",
   "metadata": {},
   "source": [
    "***\n",
    "**Data loading and manipulation**\n",
    "***"
   ]
  },
  {
   "cell_type": "code",
   "execution_count": null,
   "metadata": {},
   "outputs": [],
   "source": [
    "%psource load_genes"
   ]
  },
  {
   "cell_type": "code",
   "execution_count": null,
   "metadata": {},
   "outputs": [],
   "source": [
    "# Raw information about genes\n",
    "genes = load_genes()\n",
    "genes"
   ]
  },
  {
   "cell_type": "code",
   "execution_count": 3,
   "metadata": {},
   "outputs": [
    {
     "data": {
      "text/html": [
       "<div>\n",
       "<style scoped>\n",
       "    .dataframe tbody tr th:only-of-type {\n",
       "        vertical-align: middle;\n",
       "    }\n",
       "\n",
       "    .dataframe tbody tr th {\n",
       "        vertical-align: top;\n",
       "    }\n",
       "\n",
       "    .dataframe thead th {\n",
       "        text-align: right;\n",
       "    }\n",
       "</style>\n",
       "<table border=\"1\" class=\"dataframe\">\n",
       "  <thead>\n",
       "    <tr style=\"text-align: right;\">\n",
       "      <th></th>\n",
       "      <th>genes</th>\n",
       "      <th>dht</th>\n",
       "      <th>e2</th>\n",
       "      <th>p4</th>\n",
       "      <th>upregulated</th>\n",
       "    </tr>\n",
       "  </thead>\n",
       "  <tbody>\n",
       "    <tr>\n",
       "      <td>0</td>\n",
       "      <td>ABCA13</td>\n",
       "      <td>False</td>\n",
       "      <td>False</td>\n",
       "      <td>True</td>\n",
       "      <td>True</td>\n",
       "    </tr>\n",
       "    <tr>\n",
       "      <td>1</td>\n",
       "      <td>AC062028.2</td>\n",
       "      <td>False</td>\n",
       "      <td>True</td>\n",
       "      <td>False</td>\n",
       "      <td>False</td>\n",
       "    </tr>\n",
       "  </tbody>\n",
       "</table>\n",
       "</div>"
      ],
      "text/plain": [
       "        genes    dht     e2     p4  upregulated\n",
       "0      ABCA13  False  False   True         True\n",
       "1  AC062028.2  False   True  False        False"
      ]
     },
     "execution_count": 3,
     "metadata": {},
     "output_type": "execute_result"
    }
   ],
   "source": [
    "# Preprocessed list of genes\n",
    "genes_list = load_genes_list()\n",
    "genes_list.head(2)"
   ]
  },
  {
   "cell_type": "code",
   "execution_count": null,
   "metadata": {},
   "outputs": [],
   "source": [
    "# Genes showing response to two hormones\n",
    "genes_list[genes_list[[\"dht\", \"e2\", \"p4\"]].sum(axis=1) == 2]"
   ]
  },
  {
   "cell_type": "code",
   "execution_count": 4,
   "metadata": {},
   "outputs": [],
   "source": [
    "# Load TCGA first tumor-patients dataset\n",
    "patients = load_patients()"
   ]
  },
  {
   "cell_type": "code",
   "execution_count": 88,
   "metadata": {},
   "outputs": [],
   "source": [
    "# Load TCGA second tumor-patients dataset\n",
    "patients2 = load_patients2()"
   ]
  },
  {
   "cell_type": "markdown",
   "metadata": {},
   "source": [
    "Not all the genes are expressed in every cell of patients and within a broad set of samples, so we discard genes not expressed in the patients datasets. This is what is to be expected, especially when taking into account that we are comparing data on human patients with data from a xenograft experiment. Let's list the genes that were not found:"
   ]
  },
  {
   "cell_type": "code",
   "execution_count": null,
   "metadata": {},
   "outputs": [],
   "source": [
    "genes_not_found = genes_list.genes[~genes_list.genes.isin(patients.columns)]\n",
    "print(f\"Genes not found in the patients datasets:\\n\\n{list(genes_not_found)}\")"
   ]
  },
  {
   "cell_type": "code",
   "execution_count": 5,
   "metadata": {},
   "outputs": [
    {
     "name": "stdout",
     "output_type": "stream",
     "text": [
      "Genes found in the patients datasets:\n",
      "\n",
      "['ABCA13', 'ADAMTS1', 'ADAMTS8', 'ALB', 'ALOX15B', 'ATP1A2', 'BICD1', 'CACNA1H', 'CISH', 'CITED1', 'CLEC7A', 'COL12A1', 'COL22A1', 'COL3A1', 'CPB1', 'CRTAC1', 'CSTA', 'CXCL13', 'CYP4F8', 'CYYR1', 'DCDC2', 'DCX', 'DHRS2', 'DIO2', 'DLC1', 'FAM83B', 'FGD6', 'FGFR4', 'GFOD1', 'GHR', 'GIMAP6', 'GPC3', 'GPR88', 'GREB1', 'GRIK3', 'GRIK4', 'HPGD', 'HSD17B2', 'IGSF1', 'KCNK3', 'KLK12', 'KLK14', 'KLK2', 'KLK3', 'LAMA1', 'LYG1', 'MAP3K14', 'MS4A14', 'MS4A7', 'MYBPC1', 'NECAB1', 'NEFH', 'NELL2', 'NFKBIE', 'NTRK3', 'NTS', 'OLFM4', 'PDE2A', 'PER2', 'PEX5L', 'PGR', 'PKD1L1', 'PLA2G3', 'PLEKHO1', 'QRICH1', 'RAB31', 'RANBP3L', 'RIPK2', 'SCGB3A1', 'SDC2', 'SLC26A3', 'SLC34A2', 'SORCS1', 'SOX2', 'SPARCL1', 'SPINK4', 'SYNPO2', 'TAT', 'TMEM106B', 'TMEM176A', 'TMPRSS4', 'TNFAIP3', 'TP63', 'TPSG1', 'TSPAN8', 'UGT2B11', 'UGT2B28', 'ZBTB16', 'ZNF107', 'ZNF282', 'ZNF71']\n"
     ]
    }
   ],
   "source": [
    "genes_expressed = patients.columns\n",
    "print(f\"Genes found in the patients datasets:\\n\\n{list(genes_expressed)}\")"
   ]
  },
  {
   "cell_type": "markdown",
   "metadata": {},
   "source": [
    "Let's now load the patient derived xenograft (PDX) experiment data:"
   ]
  },
  {
   "cell_type": "code",
   "execution_count": 6,
   "metadata": {},
   "outputs": [],
   "source": [
    "pdx = load_pdx()"
   ]
  },
  {
   "cell_type": "markdown",
   "metadata": {},
   "source": [
    "***\n",
    "**Exploratory data analysis**\n",
    "***"
   ]
  },
  {
   "cell_type": "markdown",
   "metadata": {},
   "source": [
    "Let's investigate how correlated features are among each other in the first patients dataset. We shall plot a heatmap to visualize the lower triangular Pearson correlation matrix."
   ]
  },
  {
   "cell_type": "code",
   "execution_count": null,
   "metadata": {},
   "outputs": [],
   "source": [
    "%psource df_to_tril"
   ]
  },
  {
   "cell_type": "code",
   "execution_count": 7,
   "metadata": {},
   "outputs": [],
   "source": [
    "patients_corr = df_to_tril(patients.corr())"
   ]
  },
  {
   "cell_type": "code",
   "execution_count": null,
   "metadata": {},
   "outputs": [],
   "source": [
    "# %pycat plots"
   ]
  },
  {
   "cell_type": "code",
   "execution_count": null,
   "metadata": {},
   "outputs": [],
   "source": [
    "plot_corr(patients_corr, genes_expressed, \"corr_patients\")"
   ]
  },
  {
   "cell_type": "markdown",
   "metadata": {},
   "source": [
    "We observe that most of the genes are rather uncorrelated, which gives us a hint of their linear independence."
   ]
  },
  {
   "cell_type": "markdown",
   "metadata": {},
   "source": [
    "Now let's look at the pairs of genes which are highly correlated. We define our threshold to be 0.6."
   ]
  },
  {
   "cell_type": "code",
   "execution_count": 8,
   "metadata": {},
   "outputs": [],
   "source": [
    "patients_genes_corr = patients_corr[patients_corr > CORR_THRESHOLD].stack()"
   ]
  },
  {
   "cell_type": "code",
   "execution_count": 9,
   "metadata": {},
   "outputs": [],
   "source": [
    "patients_genes_corr.index = patients_genes_corr.index.tolist()\n",
    "patients_genes_corr.name = \"patients_correlation\""
   ]
  },
  {
   "cell_type": "code",
   "execution_count": 73,
   "metadata": {},
   "outputs": [],
   "source": [
    "series = []\n",
    "\n",
    "for h in HORMONES:\n",
    "    # get all genes expressing hormone h\n",
    "    genes_h = genes_list[genes_list[h]]\n",
    "    glist = list(genes_h.genes)\n",
    "\n",
    "    num_genes = len(glist)\n",
    "\n",
    "    # Compute pairs of indices for the lower triangular part of a matrix\n",
    "    # of size (num_genes x num_genes), excluding the diagonal\n",
    "    # (we don't want to pair the genes to themselves)\n",
    "    tril_indices = np.tril_indices(num_genes, k=-1)\n",
    "    index_pairs = list(zip(tril_indices[0], tril_indices[1]))\n",
    "\n",
    "    # We map the list of index-pairs to all possible pairs of genes\n",
    "    pairs = [(glist[pair[0]], glist[pair[1]]) for pair in index_pairs]\n",
    "\n",
    "    # idx = pd.MultiIndex.from_tuples(genes_pairs)\n",
    "    series_h = pd.Series(data=h, index=pairs, name=\"pdx_hormone\")\n",
    "    series.append(series_h)\n",
    "    \n",
    "genes_pairs = pd.concat(series, sort=False).groupby(level=0).apply(list)"
   ]
  },
  {
   "cell_type": "code",
   "execution_count": null,
   "metadata": {},
   "outputs": [],
   "source": [
    "genes_matches = genes_pairs[genes_pairs.index.isin(patients_genes_corr.index)]"
   ]
  },
  {
   "cell_type": "code",
   "execution_count": 86,
   "metadata": {},
   "outputs": [
    {
     "data": {
      "text/plain": [
       "(KLK14, KLK12)        0.984432\n",
       "(KLK3, KLK2)          0.933312\n",
       "(UGT2B28, ALOX15B)    0.871196\n",
       "(MS4A7, MS4A14)       0.781378\n",
       "(COL3A1, COL12A1)     0.719737\n",
       "(SPARCL1, PDE2A)      0.671257\n",
       "(SLC26A3, CXCL13)     0.628684\n",
       "Name: patients_correlation, dtype: float64"
      ]
     },
     "execution_count": 86,
     "metadata": {},
     "output_type": "execute_result"
    }
   ],
   "source": [
    "patients_genes_corr.sort_values(ascending=False, inplace=True)\n",
    "patients_genes_corr"
   ]
  },
  {
   "cell_type": "code",
   "execution_count": 87,
   "metadata": {},
   "outputs": [
    {
     "data": {
      "text/html": [
       "<div>\n",
       "<style scoped>\n",
       "    .dataframe tbody tr th:only-of-type {\n",
       "        vertical-align: middle;\n",
       "    }\n",
       "\n",
       "    .dataframe tbody tr th {\n",
       "        vertical-align: top;\n",
       "    }\n",
       "\n",
       "    .dataframe thead th {\n",
       "        text-align: right;\n",
       "    }\n",
       "</style>\n",
       "<table border=\"1\" class=\"dataframe\">\n",
       "  <thead>\n",
       "    <tr style=\"text-align: right;\">\n",
       "      <th></th>\n",
       "      <th>patients_correlation</th>\n",
       "      <th>pdx_hormone</th>\n",
       "    </tr>\n",
       "  </thead>\n",
       "  <tbody>\n",
       "    <tr>\n",
       "      <td>(KLK14, KLK12)</td>\n",
       "      <td>0.984432</td>\n",
       "      <td>[e2]</td>\n",
       "    </tr>\n",
       "    <tr>\n",
       "      <td>(KLK3, KLK2)</td>\n",
       "      <td>0.933312</td>\n",
       "      <td>[dht]</td>\n",
       "    </tr>\n",
       "    <tr>\n",
       "      <td>(UGT2B28, ALOX15B)</td>\n",
       "      <td>0.871196</td>\n",
       "      <td>[dht]</td>\n",
       "    </tr>\n",
       "    <tr>\n",
       "      <td>(MS4A7, MS4A14)</td>\n",
       "      <td>0.781378</td>\n",
       "      <td>[e2]</td>\n",
       "    </tr>\n",
       "    <tr>\n",
       "      <td>(COL3A1, COL12A1)</td>\n",
       "      <td>0.719737</td>\n",
       "      <td>[dht]</td>\n",
       "    </tr>\n",
       "    <tr>\n",
       "      <td>(SPARCL1, PDE2A)</td>\n",
       "      <td>0.671257</td>\n",
       "      <td>[p4]</td>\n",
       "    </tr>\n",
       "    <tr>\n",
       "      <td>(SLC26A3, CXCL13)</td>\n",
       "      <td>0.628684</td>\n",
       "      <td>[dht, p4]</td>\n",
       "    </tr>\n",
       "  </tbody>\n",
       "</table>\n",
       "</div>"
      ],
      "text/plain": [
       "                    patients_correlation pdx_hormone\n",
       "(KLK14, KLK12)                  0.984432        [e2]\n",
       "(KLK3, KLK2)                    0.933312       [dht]\n",
       "(UGT2B28, ALOX15B)              0.871196       [dht]\n",
       "(MS4A7, MS4A14)                 0.781378        [e2]\n",
       "(COL3A1, COL12A1)               0.719737       [dht]\n",
       "(SPARCL1, PDE2A)                0.671257        [p4]\n",
       "(SLC26A3, CXCL13)               0.628684   [dht, p4]"
      ]
     },
     "execution_count": 87,
     "metadata": {},
     "output_type": "execute_result"
    }
   ],
   "source": [
    "(\n",
    "    pd.DataFrame(patients_genes_corr)\n",
    "    .join(genes_matches)\n",
    ")"
   ]
  },
  {
   "cell_type": "markdown",
   "metadata": {},
   "source": [
    "There are appear to be even more correlations in the second patients dataset that match the PDX data.\n",
    "Can we therefore conclude that we can expect better/consistent results for this dataset \n",
    "when we run the methods trained on the PDX data?"
   ]
  },
  {
   "cell_type": "code",
   "execution_count": 89,
   "metadata": {},
   "outputs": [],
   "source": [
    "patients2_corr = patients2.corr()\n",
    "patients2_corr = df_to_tril(patients2_corr)"
   ]
  },
  {
   "cell_type": "code",
   "execution_count": 90,
   "metadata": {},
   "outputs": [],
   "source": [
    "patients2_genes_corr = patients2_corr[patients2_corr > CORR_THRESHOLD].stack()"
   ]
  },
  {
   "cell_type": "code",
   "execution_count": 91,
   "metadata": {},
   "outputs": [],
   "source": [
    "patients2_genes_corr.index = patients2_genes_corr.index.tolist()\n",
    "patients2_genes_corr.name = \"patients2_correlation\""
   ]
  },
  {
   "cell_type": "code",
   "execution_count": 92,
   "metadata": {},
   "outputs": [],
   "source": [
    "genes_matches = genes_pairs[genes_pairs.index.isin(patients2_genes_corr.index)]"
   ]
  },
  {
   "cell_type": "code",
   "execution_count": 93,
   "metadata": {},
   "outputs": [
    {
     "data": {
      "text/plain": [
       "(KLK14, KLK12)        0.975478\n",
       "(MYBPC1, ATP1A2)      0.861628\n",
       "(SYNPO2, ATP1A2)      0.839422\n",
       "(SYNPO2, MYBPC1)      0.824060\n",
       "(PDE2A, GIMAP6)       0.779010\n",
       "(UGT2B28, ALOX15B)    0.766995\n",
       "(PDE2A, GHR)          0.761749\n",
       "(MS4A7, MS4A14)       0.755502\n",
       "(KLK3, KLK2)          0.745600\n",
       "(PDE2A, DLC1)         0.743580\n",
       "(SPARCL1, PDE2A)      0.741066\n",
       "(COL3A1, COL12A1)     0.723924\n",
       "(SPARCL1, GIMAP6)     0.696268\n",
       "(DLC1, ADAMTS1)       0.676533\n",
       "(SPARCL1, DLC1)       0.660314\n",
       "(GHR, DLC1)           0.641009\n",
       "(ZBTB16, PDE2A)       0.636432\n",
       "(HPGD, ALOX15B)       0.635834\n",
       "(PDE2A, ADAMTS1)      0.630073\n",
       "(SPARCL1, CYYR1)      0.626837\n",
       "(SPARCL1, ADAMTS1)    0.604069\n",
       "Name: patients2_correlation, dtype: float64"
      ]
     },
     "execution_count": 93,
     "metadata": {},
     "output_type": "execute_result"
    }
   ],
   "source": [
    "patients2_genes_corr.sort_values(ascending=False, inplace=True)\n",
    "patients2_genes_corr"
   ]
  },
  {
   "cell_type": "code",
   "execution_count": 94,
   "metadata": {},
   "outputs": [
    {
     "data": {
      "text/html": [
       "<div>\n",
       "<style scoped>\n",
       "    .dataframe tbody tr th:only-of-type {\n",
       "        vertical-align: middle;\n",
       "    }\n",
       "\n",
       "    .dataframe tbody tr th {\n",
       "        vertical-align: top;\n",
       "    }\n",
       "\n",
       "    .dataframe thead th {\n",
       "        text-align: right;\n",
       "    }\n",
       "</style>\n",
       "<table border=\"1\" class=\"dataframe\">\n",
       "  <thead>\n",
       "    <tr style=\"text-align: right;\">\n",
       "      <th></th>\n",
       "      <th>patients2_correlation</th>\n",
       "      <th>pdx_hormone</th>\n",
       "    </tr>\n",
       "  </thead>\n",
       "  <tbody>\n",
       "    <tr>\n",
       "      <td>(KLK14, KLK12)</td>\n",
       "      <td>0.975478</td>\n",
       "      <td>[e2]</td>\n",
       "    </tr>\n",
       "    <tr>\n",
       "      <td>(MYBPC1, ATP1A2)</td>\n",
       "      <td>0.861628</td>\n",
       "      <td>[dht]</td>\n",
       "    </tr>\n",
       "    <tr>\n",
       "      <td>(SYNPO2, ATP1A2)</td>\n",
       "      <td>0.839422</td>\n",
       "      <td>NaN</td>\n",
       "    </tr>\n",
       "    <tr>\n",
       "      <td>(SYNPO2, MYBPC1)</td>\n",
       "      <td>0.824060</td>\n",
       "      <td>[p4]</td>\n",
       "    </tr>\n",
       "    <tr>\n",
       "      <td>(PDE2A, GIMAP6)</td>\n",
       "      <td>0.779010</td>\n",
       "      <td>[p4]</td>\n",
       "    </tr>\n",
       "    <tr>\n",
       "      <td>(UGT2B28, ALOX15B)</td>\n",
       "      <td>0.766995</td>\n",
       "      <td>[dht]</td>\n",
       "    </tr>\n",
       "    <tr>\n",
       "      <td>(PDE2A, GHR)</td>\n",
       "      <td>0.761749</td>\n",
       "      <td>NaN</td>\n",
       "    </tr>\n",
       "    <tr>\n",
       "      <td>(MS4A7, MS4A14)</td>\n",
       "      <td>0.755502</td>\n",
       "      <td>[e2]</td>\n",
       "    </tr>\n",
       "    <tr>\n",
       "      <td>(KLK3, KLK2)</td>\n",
       "      <td>0.745600</td>\n",
       "      <td>[dht]</td>\n",
       "    </tr>\n",
       "    <tr>\n",
       "      <td>(PDE2A, DLC1)</td>\n",
       "      <td>0.743580</td>\n",
       "      <td>[p4]</td>\n",
       "    </tr>\n",
       "    <tr>\n",
       "      <td>(SPARCL1, PDE2A)</td>\n",
       "      <td>0.741066</td>\n",
       "      <td>[p4]</td>\n",
       "    </tr>\n",
       "    <tr>\n",
       "      <td>(COL3A1, COL12A1)</td>\n",
       "      <td>0.723924</td>\n",
       "      <td>[dht]</td>\n",
       "    </tr>\n",
       "    <tr>\n",
       "      <td>(SPARCL1, GIMAP6)</td>\n",
       "      <td>0.696268</td>\n",
       "      <td>[p4]</td>\n",
       "    </tr>\n",
       "    <tr>\n",
       "      <td>(DLC1, ADAMTS1)</td>\n",
       "      <td>0.676533</td>\n",
       "      <td>[p4]</td>\n",
       "    </tr>\n",
       "    <tr>\n",
       "      <td>(SPARCL1, DLC1)</td>\n",
       "      <td>0.660314</td>\n",
       "      <td>[p4]</td>\n",
       "    </tr>\n",
       "    <tr>\n",
       "      <td>(GHR, DLC1)</td>\n",
       "      <td>0.641009</td>\n",
       "      <td>NaN</td>\n",
       "    </tr>\n",
       "    <tr>\n",
       "      <td>(ZBTB16, PDE2A)</td>\n",
       "      <td>0.636432</td>\n",
       "      <td>[p4]</td>\n",
       "    </tr>\n",
       "    <tr>\n",
       "      <td>(HPGD, ALOX15B)</td>\n",
       "      <td>0.635834</td>\n",
       "      <td>[dht]</td>\n",
       "    </tr>\n",
       "    <tr>\n",
       "      <td>(PDE2A, ADAMTS1)</td>\n",
       "      <td>0.630073</td>\n",
       "      <td>[p4]</td>\n",
       "    </tr>\n",
       "    <tr>\n",
       "      <td>(SPARCL1, CYYR1)</td>\n",
       "      <td>0.626837</td>\n",
       "      <td>[p4]</td>\n",
       "    </tr>\n",
       "    <tr>\n",
       "      <td>(SPARCL1, ADAMTS1)</td>\n",
       "      <td>0.604069</td>\n",
       "      <td>[p4]</td>\n",
       "    </tr>\n",
       "  </tbody>\n",
       "</table>\n",
       "</div>"
      ],
      "text/plain": [
       "                    patients2_correlation pdx_hormone\n",
       "(KLK14, KLK12)                   0.975478        [e2]\n",
       "(MYBPC1, ATP1A2)                 0.861628       [dht]\n",
       "(SYNPO2, ATP1A2)                 0.839422         NaN\n",
       "(SYNPO2, MYBPC1)                 0.824060        [p4]\n",
       "(PDE2A, GIMAP6)                  0.779010        [p4]\n",
       "(UGT2B28, ALOX15B)               0.766995       [dht]\n",
       "(PDE2A, GHR)                     0.761749         NaN\n",
       "(MS4A7, MS4A14)                  0.755502        [e2]\n",
       "(KLK3, KLK2)                     0.745600       [dht]\n",
       "(PDE2A, DLC1)                    0.743580        [p4]\n",
       "(SPARCL1, PDE2A)                 0.741066        [p4]\n",
       "(COL3A1, COL12A1)                0.723924       [dht]\n",
       "(SPARCL1, GIMAP6)                0.696268        [p4]\n",
       "(DLC1, ADAMTS1)                  0.676533        [p4]\n",
       "(SPARCL1, DLC1)                  0.660314        [p4]\n",
       "(GHR, DLC1)                      0.641009         NaN\n",
       "(ZBTB16, PDE2A)                  0.636432        [p4]\n",
       "(HPGD, ALOX15B)                  0.635834       [dht]\n",
       "(PDE2A, ADAMTS1)                 0.630073        [p4]\n",
       "(SPARCL1, CYYR1)                 0.626837        [p4]\n",
       "(SPARCL1, ADAMTS1)               0.604069        [p4]"
      ]
     },
     "execution_count": 94,
     "metadata": {},
     "output_type": "execute_result"
    }
   ],
   "source": [
    "(\n",
    "    pd.DataFrame(patients2_genes_corr)\n",
    "    .join(genes_matches)\n",
    ")"
   ]
  },
  {
   "cell_type": "markdown",
   "metadata": {},
   "source": [
    "***\n",
    "Let's now analyze the distribution of the features (genetic expressions). Do we observe anything abnormal about the distributions? Will we detect outliers? How will we handle them?"
   ]
  },
  {
   "cell_type": "code",
   "execution_count": null,
   "metadata": {},
   "outputs": [],
   "source": [
    "len(genes_expressed)"
   ]
  },
  {
   "cell_type": "code",
   "execution_count": 100,
   "metadata": {},
   "outputs": [
    {
     "data": {
      "text/html": [
       "<div>\n",
       "<style scoped>\n",
       "    .dataframe tbody tr th:only-of-type {\n",
       "        vertical-align: middle;\n",
       "    }\n",
       "\n",
       "    .dataframe tbody tr th {\n",
       "        vertical-align: top;\n",
       "    }\n",
       "\n",
       "    .dataframe thead th {\n",
       "        text-align: right;\n",
       "    }\n",
       "</style>\n",
       "<table border=\"1\" class=\"dataframe\">\n",
       "  <thead>\n",
       "    <tr style=\"text-align: right;\">\n",
       "      <th></th>\n",
       "      <th>ABCA13</th>\n",
       "      <th>ADAMTS1</th>\n",
       "      <th>ADAMTS8</th>\n",
       "      <th>ALB</th>\n",
       "      <th>ALOX15B</th>\n",
       "      <th>ATP1A2</th>\n",
       "      <th>BICD1</th>\n",
       "      <th>CACNA1H</th>\n",
       "      <th>CISH</th>\n",
       "      <th>CITED1</th>\n",
       "    </tr>\n",
       "  </thead>\n",
       "  <tbody>\n",
       "    <tr>\n",
       "      <td>0</td>\n",
       "      <td>0.9925</td>\n",
       "      <td>1658.0928</td>\n",
       "      <td>30.7667</td>\n",
       "      <td>448.2673</td>\n",
       "      <td>397.3203</td>\n",
       "      <td>102.5556</td>\n",
       "      <td>187.2467</td>\n",
       "      <td>1772.8691</td>\n",
       "      <td>1333.2231</td>\n",
       "      <td>105.5330</td>\n",
       "    </tr>\n",
       "    <tr>\n",
       "      <td>1</td>\n",
       "      <td>3.8556</td>\n",
       "      <td>1251.3669</td>\n",
       "      <td>40.2699</td>\n",
       "      <td>4.2840</td>\n",
       "      <td>672.5936</td>\n",
       "      <td>46.6960</td>\n",
       "      <td>188.0692</td>\n",
       "      <td>679.8765</td>\n",
       "      <td>1311.7718</td>\n",
       "      <td>113.0985</td>\n",
       "    </tr>\n",
       "    <tr>\n",
       "      <td>2</td>\n",
       "      <td>0.5886</td>\n",
       "      <td>535.9035</td>\n",
       "      <td>6.7687</td>\n",
       "      <td>399.6469</td>\n",
       "      <td>992.3484</td>\n",
       "      <td>8.8287</td>\n",
       "      <td>123.6021</td>\n",
       "      <td>91.8187</td>\n",
       "      <td>814.8911</td>\n",
       "      <td>2.9429</td>\n",
       "    </tr>\n",
       "    <tr>\n",
       "      <td>3</td>\n",
       "      <td>10.9739</td>\n",
       "      <td>1947.8738</td>\n",
       "      <td>14.9977</td>\n",
       "      <td>1106.9044</td>\n",
       "      <td>125.1029</td>\n",
       "      <td>214.7234</td>\n",
       "      <td>102.4234</td>\n",
       "      <td>994.6045</td>\n",
       "      <td>337.2657</td>\n",
       "      <td>530.0412</td>\n",
       "    </tr>\n",
       "    <tr>\n",
       "      <td>4</td>\n",
       "      <td>2.2096</td>\n",
       "      <td>529.6717</td>\n",
       "      <td>0.9470</td>\n",
       "      <td>2.2096</td>\n",
       "      <td>128.4722</td>\n",
       "      <td>11.0480</td>\n",
       "      <td>220.6439</td>\n",
       "      <td>1703.9141</td>\n",
       "      <td>2188.1313</td>\n",
       "      <td>9.4697</td>\n",
       "    </tr>\n",
       "    <tr>\n",
       "      <td>...</td>\n",
       "      <td>...</td>\n",
       "      <td>...</td>\n",
       "      <td>...</td>\n",
       "      <td>...</td>\n",
       "      <td>...</td>\n",
       "      <td>...</td>\n",
       "      <td>...</td>\n",
       "      <td>...</td>\n",
       "      <td>...</td>\n",
       "      <td>...</td>\n",
       "    </tr>\n",
       "    <tr>\n",
       "      <td>612</td>\n",
       "      <td>812.0582</td>\n",
       "      <td>695.9039</td>\n",
       "      <td>2.0438</td>\n",
       "      <td>9.8782</td>\n",
       "      <td>12.9439</td>\n",
       "      <td>3.4063</td>\n",
       "      <td>180.5331</td>\n",
       "      <td>14.3064</td>\n",
       "      <td>78.6852</td>\n",
       "      <td>3.4063</td>\n",
       "    </tr>\n",
       "    <tr>\n",
       "      <td>613</td>\n",
       "      <td>4.3337</td>\n",
       "      <td>5477.4565</td>\n",
       "      <td>77.6731</td>\n",
       "      <td>310.3592</td>\n",
       "      <td>285.0238</td>\n",
       "      <td>135.0113</td>\n",
       "      <td>179.0149</td>\n",
       "      <td>195.0163</td>\n",
       "      <td>476.0397</td>\n",
       "      <td>204.3504</td>\n",
       "    </tr>\n",
       "    <tr>\n",
       "      <td>614</td>\n",
       "      <td>0.4987</td>\n",
       "      <td>321.6753</td>\n",
       "      <td>9.4757</td>\n",
       "      <td>14.9616</td>\n",
       "      <td>16.9565</td>\n",
       "      <td>91.2660</td>\n",
       "      <td>160.0896</td>\n",
       "      <td>2803.8117</td>\n",
       "      <td>2123.0570</td>\n",
       "      <td>23.4399</td>\n",
       "    </tr>\n",
       "    <tr>\n",
       "      <td>615</td>\n",
       "      <td>0.5216</td>\n",
       "      <td>748.0438</td>\n",
       "      <td>125.7173</td>\n",
       "      <td>9.3897</td>\n",
       "      <td>159.6244</td>\n",
       "      <td>60.5112</td>\n",
       "      <td>177.3605</td>\n",
       "      <td>115.8059</td>\n",
       "      <td>3726.6562</td>\n",
       "      <td>343.7663</td>\n",
       "    </tr>\n",
       "    <tr>\n",
       "      <td>616</td>\n",
       "      <td>1.6579</td>\n",
       "      <td>2431.2506</td>\n",
       "      <td>14.0918</td>\n",
       "      <td>10.7761</td>\n",
       "      <td>105.2741</td>\n",
       "      <td>62.5842</td>\n",
       "      <td>46.0056</td>\n",
       "      <td>222.5676</td>\n",
       "      <td>2066.1071</td>\n",
       "      <td>86.2087</td>\n",
       "    </tr>\n",
       "  </tbody>\n",
       "</table>\n",
       "<p>617 rows × 10 columns</p>\n",
       "</div>"
      ],
      "text/plain": [
       "       ABCA13    ADAMTS1   ADAMTS8        ALB   ALOX15B    ATP1A2     BICD1  \\\n",
       "0      0.9925  1658.0928   30.7667   448.2673  397.3203  102.5556  187.2467   \n",
       "1      3.8556  1251.3669   40.2699     4.2840  672.5936   46.6960  188.0692   \n",
       "2      0.5886   535.9035    6.7687   399.6469  992.3484    8.8287  123.6021   \n",
       "3     10.9739  1947.8738   14.9977  1106.9044  125.1029  214.7234  102.4234   \n",
       "4      2.2096   529.6717    0.9470     2.2096  128.4722   11.0480  220.6439   \n",
       "..        ...        ...       ...        ...       ...       ...       ...   \n",
       "612  812.0582   695.9039    2.0438     9.8782   12.9439    3.4063  180.5331   \n",
       "613    4.3337  5477.4565   77.6731   310.3592  285.0238  135.0113  179.0149   \n",
       "614    0.4987   321.6753    9.4757    14.9616   16.9565   91.2660  160.0896   \n",
       "615    0.5216   748.0438  125.7173     9.3897  159.6244   60.5112  177.3605   \n",
       "616    1.6579  2431.2506   14.0918    10.7761  105.2741   62.5842   46.0056   \n",
       "\n",
       "       CACNA1H       CISH    CITED1  \n",
       "0    1772.8691  1333.2231  105.5330  \n",
       "1     679.8765  1311.7718  113.0985  \n",
       "2      91.8187   814.8911    2.9429  \n",
       "3     994.6045   337.2657  530.0412  \n",
       "4    1703.9141  2188.1313    9.4697  \n",
       "..         ...        ...       ...  \n",
       "612    14.3064    78.6852    3.4063  \n",
       "613   195.0163   476.0397  204.3504  \n",
       "614  2803.8117  2123.0570   23.4399  \n",
       "615   115.8059  3726.6562  343.7663  \n",
       "616   222.5676  2066.1071   86.2087  \n",
       "\n",
       "[617 rows x 10 columns]"
      ]
     },
     "execution_count": 100,
     "metadata": {},
     "output_type": "execute_result"
    }
   ],
   "source": [
    "patients.iloc[:, 0:10]"
   ]
  },
  {
   "cell_type": "code",
   "execution_count": 129,
   "metadata": {},
   "outputs": [
    {
     "data": {
      "image/png": "[encoded data removed]",
      "text/plain": [
       "<Figure size 1080x3600 with 10 Axes>"
      ]
     },
     "metadata": {
      "needs_background": "light"
     },
     "output_type": "display_data"
    }
   ],
   "source": [
    "plot_feature_distributions(patients, genes_expressed)"
   ]
  },
  {
   "cell_type": "code",
   "execution_count": 130,
   "metadata": {},
   "outputs": [],
   "source": [
    "# todo: analyze distributions, decide what to do with outliers"
   ]
  },
  {
   "cell_type": "markdown",
   "metadata": {},
   "source": [
    "***\n",
    "**Feature processing**\n",
    "***"
   ]
  },
  {
   "cell_type": "markdown",
   "metadata": {},
   "source": [
    "Let's try to reduce the dimensionality of the input space, i.e. the linear mapping of our D-dimensional input into a K-dimensional space K<=D that best represents the original data."
   ]
  },
  {
   "cell_type": "code",
   "execution_count": null,
   "metadata": {},
   "outputs": [],
   "source": [
    "# INCOMPLETE\n",
    "# PCA decomposition of original gene list\n",
    "# we want to verify that the pre-selected genes are linearly independent\n",
    "\n",
    "pca = PCA()\n",
    "pca.fit(genes_list)\n",
    "PCA(copy=True, iterated_power='auto', n_components=None,\n",
    "    random_state=None, svd_solver='auto', tol=0.0, whiten=False)\n",
    "\n",
    "# Explained variance by PCA\n",
    "# print(pca.explained_variance_)\n",
    "\n",
    "# Singular values of PCA\n",
    "# print(pca.singular_values_)\n",
    "\n",
    "y_pos = np.arange(len(pca.singular_values_))\n",
    "plt.bar(y_pos, pca.singular_values_, align='center', alpha=0.5)\n",
    "plt.ylabel('Values')\n",
    "plt.xlabel('Principal components')\n",
    "plt.title('PCA - Singular values')\n",
    "plt.show()\n",
    "\n",
    "#\n",
    "#pca.n_components = 2\n",
    "#X_reduced = pca.fit_transform(X)\n",
    "# X_reduced.shape"
   ]
  },
  {
   "cell_type": "markdown",
   "metadata": {},
   "source": [
    "***\n",
    "**Clustering**\n",
    "***"
   ]
  },
  {
   "cell_type": "code",
   "execution_count": null,
   "metadata": {},
   "outputs": [],
   "source": [
    "X = pdx.drop(\"label\", axis=1)\n",
    "y = pdx.label\n",
    "\n",
    "clus = cluster.AgglomerativeClustering(n_clusters=7)  # , affinity='manhattan', linkage='average')\n",
    "predicted = clus.fit_predict(X)\n",
    "\n",
    "# calculate score\n",
    "score = metrics.adjusted_rand_score(y, predicted)\n",
    "print(score)\n",
    "# accuracy, f2 = performance(predicted)"
   ]
  },
  {
   "cell_type": "markdown",
   "metadata": {},
   "source": [
    "***\n",
    "**Spectral Clustering**\n",
    "***"
   ]
  },
  {
   "cell_type": "code",
   "execution_count": null,
   "metadata": {},
   "outputs": [],
   "source": [
    "clustering = cluster.SpectralClustering(assign_labels=\"discretize\", random_state=0).fit(X)\n",
    "print(\"predicted labels : \" + str(clustering.labels_))\n",
    "print(\"true labels :      \" + str(pdx_labeled.values))\n",
    "print(\"Score : \" + str(metrics.adjusted_rand_score(x, clustering.labels_)))"
   ]
  },
  {
   "cell_type": "markdown",
   "metadata": {},
   "source": [
    "***\n",
    "**K-Means**\n",
    "***"
   ]
  },
  {
   "cell_type": "code",
   "execution_count": null,
   "metadata": {},
   "outputs": [],
   "source": [
    "kmeans = cluster.KMeans(n_clusters=4, random_state=0).fit(X)\n",
    "print(\"predicted labels : \" + str(kmeans.labels_))\n",
    "print(\"true labels :      \" + str(pdx_labeled.values))\n",
    "print(\"Score : \" + str(metrics.adjusted_rand_score(y, kmeans.labels_)))"
   ]
  },
  {
   "cell_type": "code",
   "execution_count": null,
   "metadata": {},
   "outputs": [],
   "source": [
    "# we should rather evaluate with the metrics.adjusted_rand_score function \n",
    "\n",
    "def performance(labels):\n",
    "    '''Evaluate performance of predicted cluster compared to pre-selected gene list'''\n",
    "    # get gene list\n",
    "    geneNP = genes_list.loc[:,'dht':'p4'].astype(int).values  # replace with Boolean values\n",
    "    \n",
    "    nb_clusters = len(np.unique(labels))\n",
    "    accuracy = np.zeros([nb_clusters, 3])\n",
    "    f2 =  np.zeros([nb_clusters, 3])\n",
    "    beta = 2\n",
    "    for i in np.arange(nb_clusters):\n",
    "        label = np.zeros_like(labels)\n",
    "        label[labels == i] = 1\n",
    "        for j in np.arange(geneNP.shape[1]):\n",
    "            # plot confusion matrices\n",
    "            \n",
    "            #cm = metrics.confusion_matrix(geneNP[:,j], label)\n",
    "            #cm = cm.astype('float') / cm.sum(axis=1)[:, np.newaxis]\n",
    "            #fig, ax = plt.subplots()\n",
    "            #im = ax.imshow(cm, interpolation='nearest')\n",
    "            #ax.figure.colorbar(im, ax=ax)\n",
    "            accuracy[i,j] = np.mean(geneNP[:,j]==label)\n",
    "            f2[i,j] = metrics.fbeta_score(geneNP[:,j], label, beta)\n",
    "    return accuracy, f2\n",
    "        "
   ]
  },
  {
   "cell_type": "markdown",
   "metadata": {},
   "source": [
    "***\n",
    "**Principal Component Analysis**\n",
    "***"
   ]
  }
 ],
 "metadata": {
  "kernelspec": {
   "display_name": "Python [conda env:ada] *",
   "language": "python",
   "name": "conda-env-ada-py"
  },
  "language_info": {
   "codemirror_mode": {
    "name": "ipython",
    "version": 3
   },
   "file_extension": ".py",
   "mimetype": "text/x-python",
   "name": "python",
   "nbconvert_exporter": "python",
   "pygments_lexer": "ipython3",
   "version": "3.7.4"
  }
 },
 "nbformat": 4,
 "nbformat_minor": 4
}

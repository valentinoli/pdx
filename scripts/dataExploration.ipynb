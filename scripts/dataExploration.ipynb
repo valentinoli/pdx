{
 "cells": [
  {
   "cell_type": "code",
   "execution_count": null,
   "metadata": {},
   "outputs": [],
   "source": [
    "import pandas as pd\n",
    "import numpy as np"
   ]
  },
  {
   "cell_type": "code",
   "execution_count": null,
   "metadata": {},
   "outputs": [],
   "source": [
    "# raw data\n",
    "\n",
    "genes = pd.read_excel('Classification Tumor\\PDXs\\List of Genes Differentially Expressed upon Different Treatments.xlsx')\n",
    "genes = genes.iloc[:,[1,2,4,5,7,8]]\n",
    "genes.columns = ['DHTup', 'DHTdown', 'E2up', 'E2down', 'P4up', 'P4down']\n",
    "genes = genes.iloc[2:,:]\n",
    "genes.info()\n",
    "genes\n"
   ]
  },
  {
   "cell_type": "code",
   "execution_count": null,
   "metadata": {},
   "outputs": [],
   "source": [
    "# using pre-processed gene list (sorted and without duplicates)\n",
    "\n",
    "path = 'Classification Tumor\\PDXs\\List of Genes Differentially Expressed upon Different Treatments.xlsx'\n",
    "geneList = pd.read_excel(path, sheet_name='genesListed')\n",
    "geneList.info()\n",
    "geneList"
   ]
  },
  {
   "cell_type": "code",
   "execution_count": null,
   "metadata": {},
   "outputs": [],
   "source": [
    "# extracting tumor data\n",
    "\n",
    "#path = 'Classification Tumor\\PDXs\\Human_matrix_DESEQ2normalized_removedlowlyexpressedgenes.xlsx'\n",
    "#init = pd.read_excel(path)\n",
    "tumor = init\n",
    "tumor = tumor.drop(['ensgene', 'biotype', 'description'], axis = 1)\n",
    "tumor = tumor.transpose()\n",
    "tumor.columns = tumor.iloc[0,:]\n",
    "tumor = tumor.iloc[1:,:]\n",
    "tumor = tumor.astype('float64')\n",
    "tumor.describe()"
   ]
  },
  {
   "cell_type": "code",
   "execution_count": null,
   "metadata": {},
   "outputs": [],
   "source": [
    "tumor"
   ]
  }
 ],
 "metadata": {
  "kernelspec": {
   "display_name": "Python 3",
   "language": "python",
   "name": "python3"
  },
  "language_info": {
   "codemirror_mode": {
    "name": "ipython",
    "version": 3
   },
   "file_extension": ".py",
   "mimetype": "text/x-python",
   "name": "python",
   "nbconvert_exporter": "python",
   "pygments_lexer": "ipython3",
   "version": "3.7.3"
  }
 },
 "nbformat": 4,
 "nbformat_minor": 2
}

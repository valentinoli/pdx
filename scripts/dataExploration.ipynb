{
 "cells": [
  {
   "cell_type": "code",
   "execution_count": null,
   "metadata": {},
   "outputs": [],
   "source": [
    "%matplotlib inline\n",
    "\n",
    "# misc. libraries\n",
    "import pandas as pd\n",
    "import numpy as np\n",
    "\n",
    "# plotting libraries\n",
    "import matplotlib.pyplot as plt\n",
    "import seaborn as sns\n",
    "from mpl_toolkits.mplot3d import Axes3D\n",
    "\n",
    "# ml libraries\n",
    "from sklearn import cluster, metrics\n",
    "from sklearn.decomposition import PCA\n",
    "\n",
    "import inspect\n",
    "\n",
    "%load_ext autoreload\n",
    "%autoreload 2"
   ]
  },
  {
   "cell_type": "code",
   "execution_count": null,
   "metadata": {},
   "outputs": [],
   "source": [
    "# local dependencies\n",
    "from load import *\n",
    "from helpers import *\n",
    "from plots import *\n",
    "from constants import *"
   ]
  },
  {
   "cell_type": "markdown",
   "metadata": {},
   "source": [
    "**General notes**\n",
    "* The aim is to find out if the tumor is responding to a specific hormone. This response is \"induced\" in mice by treating them with the hormone. In humans we try to find similar expression patterns to determine if the tumor is driven by a certain hormone. In which case we can group such tumors together for more targeted and better treatment. We know that the patients have a certain type of cancer and this is recorded somewhere although we don't have this information now. If we discover a clear clustering, then it will be valuable to see which cancer types each data point (patient) has. If we interpret each cluster as being certain type of cancer instead of a hormone response, then we will misinterpret the results since the genetic expressions (features) are not results\n",
    "* [Patient derived xenograft, Wikipedia](https://en.wikipedia.org/wiki/Patient_derived_xenograft)\n",
    "* [Few useful things to know about ML](https://homes.cs.washington.edu/~pedrod/papers/cacm12.pdf)\n",
    "* Useful magics:\n",
    "  * `%pycat <filename>` to show a syntax-highlighted file\n",
    "  * `%psource <object>` prints the source code for an object (function, for instance)\n",
    "\n",
    "**Notes from Fabio**\n",
    "* The data include: a matrix from our PDX models stimulated with different hormones (estrogen, progesterone and testosterone) - from which I estimated a list of differentially expressed genes to interrogate the patients' datasets - and a matrix from breast cancer patients retrieved from the TCGA (the Cancer Genome Atlas Consortium - published data).\n",
    "* I suggest you to start testing the list of differentially expressed genes on your training data (PDXs, which is labelled with the correct treatment) that you can use as positive control in order to test the performance of your methods (you can estimate the sensitivity and specificity of the methods that you want to use, so that we can have an idea of which method should be in principle better to use in the patients dataset). Once you will be able to correctly discriminate the samples in the training set, then you can start interrogating the patients' matrix.\n",
    "* Keep in mind that one of the early things that we do when dealing with sequencing data is to get rid of genes that show no or \"minor\" expression overall in the dataset. This means that, for those genes that do not reach a given threshold of expression in a number of patients, they are simply excluded from the analysis because they are supposedly not informative and just confounding the further analysis. Therefore, to some degree, we should expect to have differences in the genes that are expressed. \n",
    "* Regarding the patients data I already gave you they should be already normalized, whereas the new patients' dataset that you downloaded from the Internet  you should make sure it is correctly normalized (for this you should more or less have a normal distribution of your counts and more or less the samples - columns- should have a similar number of counts) and then run the analysis. However, I the interpretation of the PCA plot will not be trivial: since these are patients samples they are likely to be heterogeneous and therefore I do not expect to have a clear clustering of the samples based on their cancer type.\n",
    "* [Informations about drugs used to treat breast cancer](https://www.nature.com/articles/d41573-019-00201-w) over the last decades, to give you an idea of the need for a more personalized medicine.\n",
    "* [Small review on personalized medicine and why it should be pursued](https://notendur.hi.is/~vol1/pdx-papers/nejmsb1503104.pdf)\n",
    "* [Patient-derived xenograft models of breast\n",
    "cancer and their predictive power](https://notendur.hi.is/~vol1/pdx-papers/2015%20PDX%20Breast%20Cancer%20Research.pdf)\n",
    "* [A paper from our lab in which there is the description of our PDX (Patient-Derived Xenograft) model - your training dataset](https://notendur.hi.is/~vol1/pdx-papers/2016%20MIND%20for%20Breast%20Cancer%20Sflomos%20Cancer%20Cell.pdf)"
   ]
  },
  {
   "cell_type": "markdown",
   "metadata": {},
   "source": [
    "+ **DHT:** Dihydrotestosterone is an endogenous androgen sex steroid and hormone\n",
    "+ **E2:** Estradiol (E2), also spelled oestradiol, is an estrogen steroid hormone and the major female sex hormone\n",
    "+ **P4:**  Progesterone (P4) is an endogenous steroid and progestogen sex hormone involved in the menstrual cycle, pregnancy, and embryogenesis of humans and other species"
   ]
  },
  {
   "cell_type": "markdown",
   "metadata": {},
   "source": [
    "***\n",
    "**Data loading and manipulation**\n",
    "***"
   ]
  },
  {
   "cell_type": "code",
   "execution_count": null,
   "metadata": {},
   "outputs": [],
   "source": [
    "%psource load_genes"
   ]
  },
  {
   "cell_type": "code",
   "execution_count": null,
   "metadata": {},
   "outputs": [],
   "source": [
    "# Raw information about genes\n",
    "genes = load_genes()\n",
    "genes"
   ]
  },
  {
   "cell_type": "code",
   "execution_count": null,
   "metadata": {},
   "outputs": [],
   "source": [
    "# Preprocessed list of genes\n",
    "genes_list = load_genes_list()\n",
    "genes_list.head(2)"
   ]
  },
  {
   "cell_type": "code",
   "execution_count": null,
   "metadata": {},
   "outputs": [],
   "source": [
    "# Genes showing response to two hormones\n",
    "genes_list[genes_list[[\"dht\", \"e2\", \"p4\"]].sum(axis=1) == 2]"
   ]
  },
  {
   "cell_type": "code",
   "execution_count": null,
   "metadata": {},
   "outputs": [],
   "source": [
    "# Load TCGA first tumor-patients dataset\n",
    "patients = load_patients()"
   ]
  },
  {
   "cell_type": "code",
   "execution_count": null,
   "metadata": {},
   "outputs": [],
   "source": [
    "# Load TCGA second tumor-patients dataset\n",
    "patients2 = load_patients2()"
   ]
  },
  {
   "cell_type": "markdown",
   "metadata": {},
   "source": [
    "Not all the genes are expressed in every cell of patients and within a broad set of samples, so we discard genes not expressed in the patients datasets. This is what is to be expected, especially when taking into account that we are comparing data on human patients with data from a xenograft experiment. Let's list the genes that were not found:"
   ]
  },
  {
   "cell_type": "code",
   "execution_count": null,
   "metadata": {},
   "outputs": [],
   "source": [
    "genes_not_found = genes_list.genes[~genes_list.genes.isin(patients.columns)]\n",
    "print(f\"Genes not found in the patients datasets:\\n\\n{list(genes_not_found)}\")"
   ]
  },
  {
   "cell_type": "code",
   "execution_count": null,
   "metadata": {},
   "outputs": [],
   "source": [
    "genes_expressed = patients.columns\n",
    "print(f\"Genes found in the patients datasets:\\n\\n{list(genes_expressed)}\")"
   ]
  },
  {
   "cell_type": "markdown",
   "metadata": {},
   "source": [
    "Let's now load the patient derived xenograft (PDX) experiment data:"
   ]
  },
  {
   "cell_type": "code",
   "execution_count": null,
   "metadata": {
    "scrolled": true
   },
   "outputs": [],
   "source": [
    "pdx = load_pdx()\n",
    "pdx"
   ]
  },
  {
   "cell_type": "markdown",
   "metadata": {},
   "source": [
    "***\n",
    "**Exploratory data analysis**\n",
    "***"
   ]
  },
  {
   "cell_type": "markdown",
   "metadata": {},
   "source": [
    "Let's investigate how correlated features are among each other in the first patients dataset. We shall plot a heatmap to visualize the lower triangular Pearson correlation matrix."
   ]
  },
  {
   "cell_type": "code",
   "execution_count": null,
   "metadata": {},
   "outputs": [],
   "source": [
    "%psource df_to_tril"
   ]
  },
  {
   "cell_type": "code",
   "execution_count": null,
   "metadata": {},
   "outputs": [],
   "source": [
    "patients_corr = df_to_tril(patients.corr())"
   ]
  },
  {
   "cell_type": "code",
   "execution_count": null,
   "metadata": {},
   "outputs": [],
   "source": [
    "plot_corr(patients_corr, genes_expressed, \"corr_patients\")"
   ]
  },
  {
   "cell_type": "markdown",
   "metadata": {},
   "source": [
    "We observe that most of the genes are rather uncorrelated, which gives us a hint of their linear independence."
   ]
  },
  {
   "cell_type": "markdown",
   "metadata": {},
   "source": [
    "Now let's look at the pairs of genes which are highly correlated. We define our threshold to be..."
   ]
  },
  {
   "cell_type": "code",
   "execution_count": null,
   "metadata": {},
   "outputs": [],
   "source": [
    "CORR_THRESHOLD"
   ]
  },
  {
   "cell_type": "code",
   "execution_count": null,
   "metadata": {},
   "outputs": [],
   "source": [
    "patients_genes_corr = patients_corr[patients_corr > CORR_THRESHOLD].stack()"
   ]
  },
  {
   "cell_type": "code",
   "execution_count": null,
   "metadata": {},
   "outputs": [],
   "source": [
    "patients_genes_corr.index = patients_genes_corr.index.tolist()\n",
    "patients_genes_corr.name = \"patients_correlation\""
   ]
  },
  {
   "cell_type": "code",
   "execution_count": null,
   "metadata": {},
   "outputs": [],
   "source": [
    "series = []\n",
    "\n",
    "for h in HORMONES:\n",
    "    # get all genes expressing hormone h\n",
    "    genes_h = genes_list[genes_list[h]]\n",
    "    glist = list(genes_h.genes)\n",
    "\n",
    "    num_genes = len(glist)\n",
    "\n",
    "    # Compute pairs of indices for the lower triangular part of a matrix\n",
    "    # of size (num_genes x num_genes), excluding the diagonal\n",
    "    # (we don't want to pair the genes to themselves)\n",
    "    tril_indices = np.tril_indices(num_genes, k=-1)\n",
    "    index_pairs = list(zip(tril_indices[0], tril_indices[1]))\n",
    "\n",
    "    # We map the list of index-pairs to all possible pairs of genes\n",
    "    pairs = [(glist[pair[0]], glist[pair[1]]) for pair in index_pairs]\n",
    "\n",
    "    # idx = pd.MultiIndex.from_tuples(genes_pairs)\n",
    "    series_h = pd.Series(data=h, index=pairs, name=\"pdx_hormone\")\n",
    "    series.append(series_h)\n",
    "    \n",
    "genes_pairs = pd.concat(series, sort=False).groupby(level=0).apply(list)"
   ]
  },
  {
   "cell_type": "code",
   "execution_count": null,
   "metadata": {},
   "outputs": [],
   "source": [
    "genes_matches = genes_pairs[genes_pairs.index.isin(patients_genes_corr.index)]"
   ]
  },
  {
   "cell_type": "code",
   "execution_count": null,
   "metadata": {},
   "outputs": [],
   "source": [
    "patients_genes_corr.sort_values(ascending=False, inplace=True)"
   ]
  },
  {
   "cell_type": "code",
   "execution_count": null,
   "metadata": {},
   "outputs": [],
   "source": [
    "(\n",
    "    pd.DataFrame(patients_genes_corr)\n",
    "    .join(genes_matches)\n",
    ")"
   ]
  },
  {
   "cell_type": "markdown",
   "metadata": {},
   "source": [
    "Let us now analyze the second set of patient data."
   ]
  },
  {
   "cell_type": "code",
   "execution_count": null,
   "metadata": {},
   "outputs": [],
   "source": [
    "patients2_corr = patients2.corr()\n",
    "patients2_corr = df_to_tril(patients2_corr)"
   ]
  },
  {
   "cell_type": "code",
   "execution_count": null,
   "metadata": {},
   "outputs": [],
   "source": [
    "patients2_genes_corr = patients2_corr[patients2_corr > CORR_THRESHOLD].stack()"
   ]
  },
  {
   "cell_type": "code",
   "execution_count": null,
   "metadata": {},
   "outputs": [],
   "source": [
    "patients2_genes_corr.index = patients2_genes_corr.index.tolist()\n",
    "patients2_genes_corr.name = \"patients2_correlation\""
   ]
  },
  {
   "cell_type": "code",
   "execution_count": null,
   "metadata": {},
   "outputs": [],
   "source": [
    "genes_matches = genes_pairs[genes_pairs.index.isin(patients2_genes_corr.index)]"
   ]
  },
  {
   "cell_type": "code",
   "execution_count": null,
   "metadata": {},
   "outputs": [],
   "source": [
    "patients2_genes_corr.sort_values(ascending=False, inplace=True)"
   ]
  },
  {
   "cell_type": "code",
   "execution_count": null,
   "metadata": {},
   "outputs": [],
   "source": [
    "(\n",
    "    pd.DataFrame(patients2_genes_corr)\n",
    "    .join(genes_matches)\n",
    ")"
   ]
  },
  {
   "cell_type": "markdown",
   "metadata": {},
   "source": [
    "There appear to be even more correlations in the second patients dataset that match the PDX data. Note that `NaN` means the two genes showed expressions from different hormone treatments in the PDX experiment, i.e. the correlation does not match the PDX results.\n",
    "\n",
    "Since we have way more matching genes in the second dataset, can we therefore conclude that we can expect better/consistent results for this dataset when we run the methods trained on the PDX data?"
   ]
  },
  {
   "cell_type": "markdown",
   "metadata": {},
   "source": [
    "***\n",
    "Let's now analyze the distribution of the features (genetic expressions). Do we observe anything abnormal about the distributions? Will we detect outliers? How will we handle them?"
   ]
  },
  {
   "cell_type": "code",
   "execution_count": null,
   "metadata": {},
   "outputs": [],
   "source": [
    "plot_feature_distributions(patients, genes_expressed)"
   ]
  },
  {
   "cell_type": "code",
   "execution_count": null,
   "metadata": {},
   "outputs": [],
   "source": [
    "# todo: analyze distributions, decide what to do with outliers"
   ]
  },
  {
   "cell_type": "markdown",
   "metadata": {},
   "source": [
    "***\n",
    "**Feature processing**\n",
    "***"
   ]
  },
  {
   "cell_type": "markdown",
   "metadata": {},
   "source": [
    "Let's try to reduce the dimensionality of the input space, i.e. the linear mapping of our D-dimensional input into a K-dimensional space K<=D that best represents the original data."
   ]
  },
  {
   "cell_type": "code",
   "execution_count": null,
   "metadata": {},
   "outputs": [],
   "source": [
    "# PCA decomposition of original gene list\n",
    "# we want to verify that the pre-selected genes are linearly independent\n",
    "\n",
    "pca = PCA()\n",
    "pca.fit(pdx)\n",
    "PCA(copy=True, iterated_power=\"auto\", svd_solver=\"auto\", tol=0.0, whiten=False)\n",
    "\n",
    "y_pos = np.arange(len(pca.singular_values_))\n",
    "plt.bar(y_pos, pca.singular_values_, align=\"center\", alpha=0.5)\n",
    "plt.ylabel(\"Values\")\n",
    "plt.xlabel(\"Principal components\")\n",
    "plt.title(\"PCA - Singular values\")\n",
    "plt.show()\n",
    "\n",
    "y_pos = np.arange(len(pca.singular_values_))\n",
    "plt.bar(y_pos, pca.explained_variance_, align=\"center\", alpha=0.5)\n",
    "plt.ylabel(\"Explained variance\")\n",
    "plt.xlabel(\"Principal components\")\n",
    "plt.title(\"PCA - explained variance\")\n",
    "plt.show()"
   ]
  },
  {
   "cell_type": "code",
   "execution_count": null,
   "metadata": {},
   "outputs": [],
   "source": [
    "# plot data explained by 2nd and 3rd principal component\n",
    "pca.n_components = 3\n",
    "X_reduced = pca.fit_transform(pdx)\n",
    "X_reduced = np.append(X_reduced, pdx.label.values.reshape((33, 1)), axis=1)\n",
    "plt.plot(X_reduced[:3, b1], X_reduced[:3, 2], \"ro\")\n",
    "plt.plot(X_reduced[3:14, 1], X_reduced[3:14, 2], \"bo\")\n",
    "plt.plot(X_reduced[14:23, 1], X_reduced[14:23, 2], \"co\")\n",
    "plt.plot(X_reduced[23:, 1], X_reduced[23:, 2], \"go\")\n",
    "plt.legend(HORMONES_CTRL)\n",
    "# plt.plot(X_reduced[23:,1], X_reduced[24:,2], 'yo')\n",
    "# plt.legend(['dht', 'p4', 'e2', 'ctrl'])\n",
    "plt.xlabel(\"2nd PC\")\n",
    "plt.ylabel(\"3rd PC\")\n",
    "plt.show()"
   ]
  },
  {
   "cell_type": "code",
   "execution_count": null,
   "metadata": {},
   "outputs": [],
   "source": [
    "# interactive 3D plot of first 3 principal components\n",
    "\n",
    "# uncomment below line to have interactive plot!\n",
    "# %matplotlib notebook\n",
    "\n",
    "pca.n_components = 3\n",
    "X_reduced = pca.fit_transform(pdx)\n",
    "labels = pdx.label.values.reshape((33, 1))\n",
    "X_reduced = np.append(X_reduced, labels, axis=1)\n",
    "fig = plt.figure()\n",
    "ax = plt.axes(projection=\"3d\")\n",
    "Axes3D.scatter(ax, X_reduced[:3, 0], X_reduced[:3, 1], X_reduced[:3, 2])\n",
    "Axes3D.scatter(ax, X_reduced[3:14, 0], X_reduced[3:14, 1], X_reduced[3:14, 2])\n",
    "Axes3D.scatter(ax, X_reduced[14:23, 0], X_reduced[14:23, 1], X_reduced[14:23, 2])\n",
    "# Axes3D.scatter(ax, X_reduced[23:,0], X_reduced[23:,1], X_reduced[23:,2])\n",
    "ax.set_xlabel(\"1st PC\")\n",
    "ax.set_ylabel(\"2nd PC\")\n",
    "ax.set_zlabel(\"3rd PC\")\n",
    "ax.legend(HORMONES)\n",
    "# ax.legend(['dht', 'p4', 'e2', 'ctrl'])\n",
    "\n",
    "plt.rcParams[\"figure.figsize\"] = (12, 6)"
   ]
  },
  {
   "cell_type": "code",
   "execution_count": null,
   "metadata": {},
   "outputs": [],
   "source": [
    "pca = PCA()\n",
    "pca.fit(pdx)\n",
    "\n",
    "fig, ax = plt.subplots()\n",
    "xi = np.arange(0, 33, step=1)\n",
    "y = np.cumsum(pca.explained_variance_ratio_)\n",
    "\n",
    "plt.ylim(0.3, 1.1)\n",
    "plt.plot(xi, y, marker=\"o\", linestyle=\"--\", color=\"b\")\n",
    "\n",
    "plt.xlabel(\"Number of Components\")\n",
    "plt.xticks(\n",
    "    np.arange(0, 33, step=1)\n",
    ")  # change from 0-based array index to 1-based human-readable label\n",
    "plt.ylabel(\"Cumulative variance (%)\")\n",
    "plt.title(\"The number of components needed to explain variance\")\n",
    "\n",
    "plt.axhline(y=0.99, color=\"r\", linestyle=\"-\")\n",
    "plt.axhline(y=0.95, color=\"orange\", linestyle=\"-\")\n",
    "\n",
    "plt.text(0.5, 1, \"99% cut-off threshold\", color=\"red\", fontsize=10)\n",
    "plt.text(0.5, 0.9, \"95% cut-off threshold\", color=\"orange\", fontsize=10)\n",
    "\n",
    "ax.grid(axis=\"x\")\n",
    "plt.show()\n",
    "\n",
    "print(pca.n_components_)"
   ]
  },
  {
   "cell_type": "markdown",
   "metadata": {},
   "source": [
    "***\n",
    "**Clustering**\n",
    "***"
   ]
  },
  {
   "cell_type": "code",
   "execution_count": null,
   "metadata": {},
   "outputs": [],
   "source": [
    "X = pdx.drop(\"label\", axis=1)\n",
    "pdx_labeled = pdx.label\n",
    "\n",
    "clus = cluster.AgglomerativeClustering(n_clusters=4)  # , affinity='manhattan', linkage='average')\n",
    "predicted = clus.fit_predict(X)\n",
    "\n",
    "# calculate score\n",
    "score = metrics.adjusted_rand_score(pdx_labeled, predicted)\n",
    "print(score)\n",
    "# accuracy, f2 = performance(predicted)"
   ]
  },
  {
   "cell_type": "markdown",
   "metadata": {},
   "source": [
    "***\n",
    "**Spectral Clustering**\n",
    "***"
   ]
  },
  {
   "cell_type": "code",
   "execution_count": null,
   "metadata": {},
   "outputs": [],
   "source": [
    "clustering = cluster.SpectralClustering(assign_labels=\"discretize\", n_clusters=4, random_state=0).fit(X)\n",
    "print(\"predicted labels : \" + str(clustering.labels_))\n",
    "print(\"true labels :      \" + str(pdx_labeled.values))\n",
    "print(\"Score : \" + str(metrics.adjusted_rand_score(pdx_labeled, clustering.labels_)))"
   ]
  },
  {
   "cell_type": "markdown",
   "metadata": {},
   "source": [
    "***\n",
    "**K-Means**\n",
    "***"
   ]
  },
  {
   "cell_type": "code",
   "execution_count": null,
   "metadata": {},
   "outputs": [],
   "source": [
    "kmeans = cluster.KMeans(n_clusters=4, random_state=0).fit(X)\n",
    "print(\"predicted labels : \" + str(kmeans.labels_))\n",
    "print(\"true labels :      \" + str(pdx_labeled.values))\n",
    "print(\"Score : \" + str(metrics.adjusted_rand_score(pdx_labeled, kmeans.labels_)))"
   ]
  },
  {
   "cell_type": "code",
   "execution_count": null,
   "metadata": {},
   "outputs": [],
   "source": [
    "# we should rather evaluate with the metrics.adjusted_rand_score function\n",
    "\n",
    "\n",
    "def performance(labels):\n",
    "    \"\"\"Evaluate performance of predicted cluster compared to pre-selected gene list\"\"\"\n",
    "    # get gene list\n",
    "    geneNP = (\n",
    "        genes_list.loc[:, \"dht\":\"p4\"].astype(int).values\n",
    "    )  # replace with Boolean values\n",
    "\n",
    "    nb_clusters = len(np.unique(labels))\n",
    "    accuracy = np.zeros([nb_clusters, 3])\n",
    "    f2 = np.zeros([nb_clusters, 3])\n",
    "    beta = 2\n",
    "    for i in np.arange(nb_clusters):\n",
    "        label = np.zeros_like(labels)\n",
    "        label[labels == i] = 1\n",
    "        for j in np.arange(geneNP.shape[1]):\n",
    "            # plot confusion matrices\n",
    "\n",
    "            # cm = metrics.confusion_matrix(geneNP[:,j], label)\n",
    "            # cm = cm.astype('float') / cm.sum(axis=1)[:, np.newaxis]\n",
    "            # fig, ax = plt.subplots()\n",
    "            # im = ax.imshow(cm, interpolation='nearest')\n",
    "            # ax.figure.colorbar(im, ax=ax)\n",
    "            accuracy[i, j] = np.mean(geneNP[:, j] == label)\n",
    "            f2[i, j] = metrics.fbeta_score(geneNP[:, j], label, beta)\n",
    "    return accuracy, f2"
   ]
  }
 ],
 "metadata": {
  "kernelspec": {
   "display_name": "Python [conda env:ada] *",
   "language": "python",
   "name": "conda-env-ada-py"
  },
  "language_info": {
   "codemirror_mode": {
    "name": "ipython",
    "version": 3
   },
   "file_extension": ".py",
   "mimetype": "text/x-python",
   "name": "python",
   "nbconvert_exporter": "python",
   "pygments_lexer": "ipython3",
   "version": "3.7.4"
  }
 },
 "nbformat": 4,
 "nbformat_minor": 4
}

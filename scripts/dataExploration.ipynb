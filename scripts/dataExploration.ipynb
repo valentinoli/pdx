{
 "cells": [
  {
   "cell_type": "code",
   "execution_count": null,
   "metadata": {},
   "outputs": [],
   "source": [
    "from helpers import *\n",
    "from sklearn.decomposition import PCA\n",
    "import matplotlib.pyplot as plt\n",
    "import seaborn as sns\n",
    "import pandas as pd\n",
    "import numpy as np\n",
    "\n",
    "%matplotlib inline\n",
    "from sklearn import cluster\n",
    "from sklearn.decomposition import PCA\n",
    "from sklearn import metrics\n",
    "\n",
    "\n",
    "%load_ext autoreload\n",
    "%autoreload 2"
   ]
  },
  {
   "cell_type": "markdown",
   "metadata": {},
   "source": [
    "+ **DHT:** Dihydrotestosterone is an endogenous androgen sex steroid and hormone\n",
    "+ **E2:** Estradiol (E2), also spelled oestradiol, is an estrogen steroid hormone and the major female sex hormone\n",
    "+ **P4:**  Progesterone (P4) is an endogenous steroid and progestogen sex hormone involved in the menstrual cycle, pregnancy, and embryogenesis of humans and other species"
   ]
  },
  {
   "cell_type": "code",
   "execution_count": null,
   "metadata": {},
   "outputs": [],
   "source": [
    "# Raw information about genes\n",
    "genes = load_genes()\n",
    "genes.head()"
   ]
  },
  {
   "cell_type": "code",
   "execution_count": null,
   "metadata": {},
   "outputs": [],
   "source": [
    "# Preprocessed list of genes\n",
    "genes_list = load_genes_list()\n",
    "genes_list"
   ]
  },
  {
   "cell_type": "code",
   "execution_count": null,
   "metadata": {},
   "outputs": [],
   "source": [
    "# Genes that express two hormones\n",
    "genes_list[genes_list[[\"dht\", \"e2\", \"p4\"]].sum(axis=1) == 2]"
   ]
  },
  {
   "cell_type": "code",
   "execution_count": null,
   "metadata": {},
   "outputs": [],
   "source": [
    "# Extract PDX tumor data,\n",
    "# only retaining selected genes\n",
    "pdx = load_pdx(genes_list.genes)\n",
    "#extract the label from the index\n",
    "pdx['label'] = pdx.index.to_series().str.rsplit(\"_\", 1).map(lambda x: x[1])\n",
    "#remove the subjects with more than one label\n",
    "pdx = pdx[pdx['label'].str.contains('\\+') == False]\n",
    "pdx = pdx[pdx['label'].str.contains('CTRL') == False]\n",
    "pdx"
   ]
  },
  {
   "cell_type": "code",
   "execution_count": null,
   "metadata": {},
   "outputs": [],
   "source": [
    "pdx.shape"
   ]
  },
  {
   "cell_type": "code",
   "execution_count": null,
   "metadata": {},
   "outputs": [],
   "source": []
  },
  {
   "cell_type": "code",
   "execution_count": null,
   "metadata": {},
   "outputs": [],
   "source": [
    "labels = pdx.columns.values"
   ]
  },
  {
   "cell_type": "code",
   "execution_count": null,
   "metadata": {},
   "outputs": [],
   "source": [
    "corr = np.abs(np.tril(pdx.corr()))\n",
    "\n",
    "plt.figure(figsize=(25, 25))\n",
    "\n",
    "heatmap = sns.heatmap(\n",
    "    corr,\n",
    "    square=True,\n",
    "    linewidths=.005,\n",
    "    xticklabels=labels,\n",
    "    yticklabels=labels,\n",
    "    mask=(corr == 0)  # mask cells with missing values\n",
    ")\n",
    "fig = heatmap.get_figure()\n",
    "fig.savefig(\"corr.png\")"
   ]
  },
  {
   "cell_type": "code",
   "execution_count": null,
   "metadata": {},
   "outputs": [],
   "source": [
    "clus = cluster.AgglomerativeClustering(n_clusters=2, affinity='manhattan', linkage='complete')\n",
    "predicted = clus.fit_predict(pdx.transpose())\n",
    "print(predicted)\n",
    "accuracy, f2 = performance(predicted)"
   ]
  },
  {
   "cell_type": "code",
   "execution_count": null,
   "metadata": {},
   "outputs": [],
   "source": [
    "def performance(labels):\n",
    "    '''Evaluate performance of predicted cluster compared to pre-selected gene list'''\n",
    "    # get gene list\n",
    "    geneNP = genes_list.loc[:,'dht':'p4'].astype(int).values  # replace with Boolean values\n",
    "    \n",
    "    nb_clusters = len(np.unique(labels))\n",
    "    accuracy = np.zeros([nb_clusters, 3])\n",
    "    f2 =  np.zeros([nb_clusters, 3])\n",
    "    beta = 2\n",
    "    for i in np.arange(nb_clusters):\n",
    "        label = np.zeros_like(labels)\n",
    "        label[labels == i] = 1\n",
    "        for j in np.arange(geneNP.shape[1]):\n",
    "            # plot confusion matrices\n",
    "            \n",
    "            #cm = metrics.confusion_matrix(geneNP[:,j], label)\n",
    "            #cm = cm.astype('float') / cm.sum(axis=1)[:, np.newaxis]\n",
    "            #fig, ax = plt.subplots()\n",
    "            #im = ax.imshow(cm, interpolation='nearest')\n",
    "            #ax.figure.colorbar(im, ax=ax)\n",
    "            accuracy[i,j] = np.mean(geneNP[:,j]==label)\n",
    "            f2[i,j] = metrics.fbeta_score(geneNP[:,j], label, beta)\n",
    "    return accuracy, f2\n",
    "        "
   ]
  },
  {
   "cell_type": "code",
   "execution_count": null,
   "metadata": {},
   "outputs": [],
   "source": [
    "# PCA decomposition of original gene list\n",
    "# we want to verify that the pre-selected genes are linearly independent\n",
    "\n",
    "pca = PCA()\n",
    "pca.fit(genes_list)\n",
    "PCA(copy=True, iterated_power='auto', n_components=None,\n",
    "    random_state=None, svd_solver='auto', tol=0.0, whiten=False)\n",
    "\n",
    "# Explained variance by PCA\n",
    "# print(pca.explained_variance_)\n",
    "\n",
    "# Singular values of PCA\n",
    "# print(pca.singular_values_)\n",
    "\n",
    "y_pos = np.arange(len(pca.singular_values_))\n",
    "plt.bar(y_pos, pca.singular_values_, align='center', alpha=0.5)\n",
    "plt.ylabel('Values')\n",
    "plt.xlabel('Principal components')\n",
    "plt.title('PCA - Singular values')\n",
    "plt.show()\n",
    "\n",
    "#\n",
    "#pca.n_components = 2\n",
    "#X_reduced = pca.fit_transform(X)\n",
    "# X_reduced.shape"
   ]
  }
 ],
 "metadata": {
  "kernelspec": {
   "display_name": "Python 3",
   "language": "python",
   "name": "python3"
  },
  "language_info": {
   "codemirror_mode": {
    "name": "ipython",
    "version": 3
   },
   "file_extension": ".py",
   "mimetype": "text/x-python",
   "name": "python",
   "nbconvert_exporter": "python",
   "pygments_lexer": "ipython3",
   "version": "3.7.5"
  }
 },
 "nbformat": 4,
 "nbformat_minor": 4
}

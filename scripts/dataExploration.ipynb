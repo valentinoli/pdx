{
 "cells": [
  {
   "cell_type": "code",
   "execution_count": null,
   "metadata": {},
   "outputs": [],
   "source": [
    "import pandas as pd\n",
    "import numpy as np"
   ]
  },
  {
   "cell_type": "code",
   "execution_count": null,
   "metadata": {},
   "outputs": [],
   "source": [
    "# raw data\n",
    "\n",
    "genes = pd.read_excel('../data/pdx/List of Genes Differentially Expressed upon Different Treatments.xlsx')\n",
    "genes = genes.iloc[:,[1,2,4,5,7,8]]\n",
    "genes.columns = ['DHTup', 'DHTdown', 'E2up', 'E2down', 'P4up', 'P4down']\n",
    "genes = genes.iloc[2:,:]\n",
    "genes.info()\n",
    "genes\n"
   ]
  },
  {
   "cell_type": "code",
   "execution_count": null,
   "metadata": {},
   "outputs": [],
   "source": [
    "# using pre-processed gene list (sorted and without duplicates)\n",
    "\n",
    "path = '../data/pdx/List of Genes Differentially Expressed upon Different Treatments.xlsx'\n",
    "geneList = pd.read_excel(path, sheet_name='genesListed')\n",
    "geneList.info()\n",
    "geneList"
   ]
  },
  {
   "cell_type": "code",
   "execution_count": null,
   "metadata": {},
   "outputs": [],
   "source": [
    "# extracting pdx tumor data\n",
    "\n",
    "path = '../data/pdx/Human_matrix_DESEQ2normalized_removedlowlyexpressedgenes.xlsx'\n",
    "init = pd.read_excel(path)\n",
    "tumor = init\n",
    "tumor = tumor.drop(['ensgene', 'biotype', 'description'], axis = 1)\n",
    "tumor = tumor.transpose()\n",
    "tumor.columns = tumor.iloc[0,:]\n",
    "tumor = tumor.iloc[1:,:]\n",
    "tumor = tumor.astype('float64')\n",
    "tumor.describe()"
   ]
  },
  {
   "cell_type": "code",
   "execution_count": null,
   "metadata": {},
   "outputs": [],
   "source": [
    "# select only data of genes from list\n",
    "\n",
    "selectedGenes = geneList.Genes\n",
    "selectionPDX = tumor[selectedGenes]\n",
    "selectionPDX"
   ]
  },
  {
   "cell_type": "code",
   "execution_count": null,
   "metadata": {},
   "outputs": [],
   "source": [
    "# PCA decomposition of original gene list\n",
    "# we want to verify that the pre-selected genes are linearly independent\n",
    "\n",
    "import matplotlib.pyplot as plt\n",
    "from sklearn.decomposition import PCA\n",
    "\n",
    "pca = decomposition.PCA()\n",
    "pca.fit(selectionPDX)  \n",
    "PCA(copy=True, iterated_power='auto', n_components=None, random_state=None, svd_solver='auto', tol=0.0, whiten=False)\n",
    "\n",
    "# Explained variance by PCA\n",
    "#print(pca.explained_variance_)\n",
    "\n",
    "# Singular values of PCA\n",
    "#print(pca.singular_values_)\n",
    "\n",
    "y_pos = np.arange(len(pca.singular_values_))\n",
    "plt.bar(y_pos, pca.singular_values_, align='center', alpha=0.5)\n",
    "plt.ylabel('Values')\n",
    "plt.xlabel('Principal components')\n",
    "plt.title('PCA - Singular values')\n",
    "plt.show()\n",
    "\n",
    "# \n",
    "#pca.n_components = 2\n",
    "#X_reduced = pca.fit_transform(X)\n",
    "#X_reduced.shape"
   ]
  }
 ],
 "metadata": {
  "kernelspec": {
   "display_name": "Python 3",
   "language": "python",
   "name": "python3"
  },
  "language_info": {
   "codemirror_mode": {
    "name": "ipython",
    "version": 3
   },
   "file_extension": ".py",
   "mimetype": "text/x-python",
   "name": "python",
   "nbconvert_exporter": "python",
   "pygments_lexer": "ipython3",
   "version": "3.7.3"
  }
 },
 "nbformat": 4,
 "nbformat_minor": 4
}

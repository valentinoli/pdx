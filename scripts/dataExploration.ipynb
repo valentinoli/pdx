{
 "cells": [
  {
   "cell_type": "code",
   "execution_count": 5,
   "metadata": {},
   "outputs": [
    {
     "name": "stdout",
     "output_type": "stream",
     "text": [
      "The autoreload extension is already loaded. To reload it, use:\n",
      "  %reload_ext autoreload\n"
     ]
    }
   ],
   "source": [
    "%matplotlib inline\n",
    "# misc. libraries\n",
    "import pandas as pd\n",
    "import numpy as np\n",
    "\n",
    "# plotting libraries\n",
    "import matplotlib.pyplot as plt\n",
    "import seaborn as sns\n",
    "\n",
    "# ml libraries\n",
    "from sklearn import cluster, metrics\n",
    "from sklearn.decomposition import PCA\n",
    "\n",
    "%load_ext autoreload\n",
    "%autoreload 2"
   ]
  },
  {
   "cell_type": "code",
   "execution_count": 6,
   "metadata": {},
   "outputs": [],
   "source": [
    "# local dependencies\n",
    "from helpers import *"
   ]
  },
  {
   "cell_type": "markdown",
   "metadata": {},
   "source": [
    "+ **DHT:** Dihydrotestosterone is an endogenous androgen sex steroid and hormone\n",
    "+ **E2:** Estradiol (E2), also spelled oestradiol, is an estrogen steroid hormone and the major female sex hormone\n",
    "+ **P4:**  Progesterone (P4) is an endogenous steroid and progestogen sex hormone involved in the menstrual cycle, pregnancy, and embryogenesis of humans and other species"
   ]
  },
  {
   "cell_type": "markdown",
   "metadata": {},
   "source": [
    "***\n",
    "**Data loading**\n",
    "***"
   ]
  },
  {
   "cell_type": "code",
   "execution_count": null,
   "metadata": {},
   "outputs": [],
   "source": [
    "# Raw information about genes\n",
    "genes = load_genes()\n",
    "genes"
   ]
  },
  {
   "cell_type": "code",
   "execution_count": 8,
   "metadata": {},
   "outputs": [
    {
     "data": {
      "text/html": [
       "<div>\n",
       "<style scoped>\n",
       "    .dataframe tbody tr th:only-of-type {\n",
       "        vertical-align: middle;\n",
       "    }\n",
       "\n",
       "    .dataframe tbody tr th {\n",
       "        vertical-align: top;\n",
       "    }\n",
       "\n",
       "    .dataframe thead th {\n",
       "        text-align: right;\n",
       "    }\n",
       "</style>\n",
       "<table border=\"1\" class=\"dataframe\">\n",
       "  <thead>\n",
       "    <tr style=\"text-align: right;\">\n",
       "      <th></th>\n",
       "      <th>genes</th>\n",
       "      <th>dht</th>\n",
       "      <th>e2</th>\n",
       "      <th>p4</th>\n",
       "      <th>upregulated</th>\n",
       "    </tr>\n",
       "  </thead>\n",
       "  <tbody>\n",
       "    <tr>\n",
       "      <th>0</th>\n",
       "      <td>ABCA13</td>\n",
       "      <td>False</td>\n",
       "      <td>False</td>\n",
       "      <td>True</td>\n",
       "      <td>True</td>\n",
       "    </tr>\n",
       "    <tr>\n",
       "      <th>1</th>\n",
       "      <td>AC062028.2</td>\n",
       "      <td>False</td>\n",
       "      <td>True</td>\n",
       "      <td>False</td>\n",
       "      <td>False</td>\n",
       "    </tr>\n",
       "  </tbody>\n",
       "</table>\n",
       "</div>"
      ],
      "text/plain": [
       "        genes    dht     e2     p4  upregulated\n",
       "0      ABCA13  False  False   True         True\n",
       "1  AC062028.2  False   True  False        False"
      ]
     },
     "execution_count": 8,
     "metadata": {},
     "output_type": "execute_result"
    }
   ],
   "source": [
    "# Preprocessed list of genes\n",
    "\n",
    "genes_list = load_genes_list()\n",
    "genes_list.head(2)"
   ]
  },
  {
   "cell_type": "code",
   "execution_count": null,
   "metadata": {},
   "outputs": [],
   "source": [
    "# Genes showing response to two hormones\n",
    "\n",
    "genes_list[genes_list[[\"dht\", \"e2\", \"p4\"]].sum(axis=1) == 2]"
   ]
  },
  {
   "cell_type": "code",
   "execution_count": null,
   "metadata": {},
   "outputs": [],
   "source": [
    "# Label genes into three categories according to list of genes\n",
    "\n",
    "genes_labeled = pd.DataFrame(genes_list, columns = ['genes'])\n",
    "genes_labeled['label'] = genes_list.replace(['dht', 'p4', 'e2'], [0, 1, 2])['label']\n",
    "genes_labeled.head()"
   ]
  },
  {
   "cell_type": "code",
   "execution_count": 9,
   "metadata": {},
   "outputs": [],
   "source": [
    "# Load PDX tumor data\n",
    "pdx = load_pdx(genes_list.genes)\n",
    "\n",
    "# Remove control subjects and subjects exposed to two treatments\n",
    "pdx = pdx[~pdx.index.str.contains(r\"\\+|CTRL\")]\n",
    "\n",
    "# Extract the label from the index\n",
    "labels = pdx.index.str.rsplit(\"_\", 1).map(lambda x: x[1].lower())\n",
    "pdx.insert(0, \"label\", labels)"
   ]
  },
  {
   "cell_type": "code",
   "execution_count": 10,
   "metadata": {},
   "outputs": [
    {
     "data": {
      "text/plain": [
       "PL015_G3_M25_E2    2\n",
       "PL015_G3_M26_E2    2\n",
       "PL015_G3_M28_P4    1\n",
       "PL015_G3_M29_P4    1\n",
       "PL015_G3_M33_E2    2\n",
       "PL015_G3_M35_P4    1\n",
       "PL015_G3_M38_P4    1\n",
       "PL015_G3_M39_E2    2\n",
       "T110_G2_M03_E2     2\n",
       "T110_G2_M05_P4     1\n",
       "T110_G2_M07_P4     1\n",
       "T110_G2_M09_E2     2\n",
       "T110_G2_M12_P4     1\n",
       "T110_G2_M13_P4     1\n",
       "T111_G2_M02_DHT    0\n",
       "T111_G2_M03_E2     2\n",
       "T111_G2_M06_DHT    0\n",
       "T111_G2_M07_P4     1\n",
       "T111_G2_M09_DHT    0\n",
       "T111_G2_M10_E2     2\n",
       "T111_G2_M12_E2     2\n",
       "T111_G2_M14_P4     1\n",
       "T111_G2_M15_P4     1\n",
       "Name: label, dtype: int64"
      ]
     },
     "execution_count": 10,
     "metadata": {},
     "output_type": "execute_result"
    }
   ],
   "source": [
    "# Label pdx data according to treatment response\n",
    "pdx_labeled = pd.DataFrame(genes_list, columns = ['label'])\n",
    "pdx_labeled = pdx.replace(['dht', 'p4', 'e2'], [0, 1, 2])['label']\n",
    "pdx_labeled"
   ]
  },
  {
   "cell_type": "code",
   "execution_count": null,
   "metadata": {},
   "outputs": [],
   "source": [
    "# Load TCGA patient data (first part)\n",
    "patients = load_patients(genes_list.genes)\n",
    "patients.head(2)"
   ]
  },
  {
   "cell_type": "code",
   "execution_count": null,
   "metadata": {},
   "outputs": [],
   "source": [
    "# Load TCGA patient data (second part)\n",
    "patients2 = load_patients2(genes_list.genes)\n",
    "patients2.head(2)"
   ]
  },
  {
   "cell_type": "markdown",
   "metadata": {},
   "source": [
    "***\n",
    "**Exploratory data analysis**\n",
    "***"
   ]
  },
  {
   "cell_type": "code",
   "execution_count": null,
   "metadata": {},
   "outputs": [],
   "source": [
    "corr = np.abs(np.tril(pdx.corr()))\n",
    "\n",
    "plt.figure(figsize=(25, 25))\n",
    "ticklabels = genes_list.genes\n",
    "\n",
    "heatmap = sns.heatmap(\n",
    "    corr,\n",
    "    square=True,\n",
    "    linewidths=.005,\n",
    "    xticklabels=ticklabels,\n",
    "    yticklabels=ticklabels,\n",
    "    mask=(corr == 0)  # mask cells with missing values\n",
    ")\n",
    "fig = heatmap.get_figure()\n",
    "fig.savefig(\"corr.png\")"
   ]
  },
  {
   "cell_type": "markdown",
   "metadata": {},
   "source": [
    "***\n",
    "**Feature processing**\n",
    "***"
   ]
  },
  {
   "cell_type": "code",
   "execution_count": null,
   "metadata": {},
   "outputs": [],
   "source": [
    "# todo"
   ]
  },
  {
   "cell_type": "markdown",
   "metadata": {},
   "source": [
    "***\n",
    "**Clustering**\n",
    "***"
   ]
  },
  {
   "cell_type": "code",
   "execution_count": null,
   "metadata": {},
   "outputs": [],
   "source": [
    "clus = cluster.AgglomerativeClustering(n_clusters=7)#, affinity='manhattan', linkage='average')\n",
    "predicted = clus.fit_predict(pdx.drop(labels='label', axis=1))\n",
    "print(pdx_labeled.shape)\n",
    "\n",
    "# calculate score\n",
    "score = metrics.adjusted_rand_score(pdx_labeled, predicted)\n",
    "print(score)\n",
    "#accuracy, f2 = performance(predicted)"
   ]
  },
  {
   "cell_type": "markdown",
   "metadata": {},
   "source": [
    "***\n",
    "**Spectral Clustering**\n",
    "***"
   ]
  },
  {
   "cell_type": "code",
   "execution_count": 23,
   "metadata": {},
   "outputs": [
    {
     "name": "stdout",
     "output_type": "stream",
     "text": [
      "predicted labels : [4 4 2 2 4 2 2 4 4 0 0 4 0 2 3 0 7 1 7 0 0 0 0]\n",
      "true labels :      [2 2 1 1 2 1 1 2 2 1 1 2 1 1 0 2 0 1 0 2 2 1 1]\n",
      "Score : 0.35109189506082367\n"
     ]
    }
   ],
   "source": [
    "clustering = cluster.SpectralClustering(assign_labels=\"discretize\", random_state=0).fit(pdx.drop(labels='label', axis=1))\n",
    "print(\"predicted labels : \" + str(clustering.labels_))\n",
    "print(\"true labels :      \" + str(pdx_labeled.values))\n",
    "print(\"Score : \" + str(metrics.adjusted_rand_score(pdx_labeled, clustering.labels_)))"
   ]
  },
  {
   "cell_type": "markdown",
   "metadata": {},
   "source": [
    "***\n",
    "**K-Means**\n",
    "***"
   ]
  },
  {
   "cell_type": "code",
   "execution_count": null,
   "metadata": {},
   "outputs": [],
   "source": [
    "kmeans = cluster.KMeans(n_clusters=4, random_state=0).fit(pdx.drop(labels='label', axis=1))\n",
    "print(\"predicted labels : \" + str(kmeans.labels_))\n",
    "print(\"true labels :      \" + str(pdx_labeled.values))\n",
    "print(\"Score : \" + str(metrics.adjusted_rand_score(pdx_labeled, kmeans.labels_)))"
   ]
  },
  {
   "cell_type": "code",
   "execution_count": null,
   "metadata": {},
   "outputs": [],
   "source": [
    "# we should rather evaluate with the metrics.adjusted_rand_score function \n",
    "\n",
    "def performance(labels):\n",
    "    '''Evaluate performance of predicted cluster compared to pre-selected gene list'''\n",
    "    # get gene list\n",
    "    geneNP = genes_list.loc[:,'dht':'p4'].astype(int).values  # replace with Boolean values\n",
    "    \n",
    "    nb_clusters = len(np.unique(labels))\n",
    "    accuracy = np.zeros([nb_clusters, 3])\n",
    "    f2 =  np.zeros([nb_clusters, 3])\n",
    "    beta = 2\n",
    "    for i in np.arange(nb_clusters):\n",
    "        label = np.zeros_like(labels)\n",
    "        label[labels == i] = 1\n",
    "        for j in np.arange(geneNP.shape[1]):\n",
    "            # plot confusion matrices\n",
    "            \n",
    "            #cm = metrics.confusion_matrix(geneNP[:,j], label)\n",
    "            #cm = cm.astype('float') / cm.sum(axis=1)[:, np.newaxis]\n",
    "            #fig, ax = plt.subplots()\n",
    "            #im = ax.imshow(cm, interpolation='nearest')\n",
    "            #ax.figure.colorbar(im, ax=ax)\n",
    "            accuracy[i,j] = np.mean(geneNP[:,j]==label)\n",
    "            f2[i,j] = metrics.fbeta_score(geneNP[:,j], label, beta)\n",
    "    return accuracy, f2\n",
    "        "
   ]
  },
  {
   "cell_type": "markdown",
   "metadata": {},
   "source": [
    "***\n",
    "**Principal Component Analysis**\n",
    "***"
   ]
  },
  {
   "cell_type": "code",
   "execution_count": null,
   "metadata": {},
   "outputs": [],
   "source": [
    "# PCA decomposition of original gene list\n",
    "# we want to verify that the pre-selected genes are linearly independent\n",
    "\n",
    "pca = PCA()\n",
    "pca.fit(genes_list)\n",
    "PCA(copy=True, iterated_power='auto', n_components=None,\n",
    "    random_state=None, svd_solver='auto', tol=0.0, whiten=False)\n",
    "\n",
    "# Explained variance by PCA\n",
    "# print(pca.explained_variance_)\n",
    "\n",
    "# Singular values of PCA\n",
    "# print(pca.singular_values_)\n",
    "\n",
    "y_pos = np.arange(len(pca.singular_values_))\n",
    "plt.bar(y_pos, pca.singular_values_, align='center', alpha=0.5)\n",
    "plt.ylabel('Values')\n",
    "plt.xlabel('Principal components')\n",
    "plt.title('PCA - Singular values')\n",
    "plt.show()\n",
    "\n",
    "#\n",
    "#pca.n_components = 2\n",
    "#X_reduced = pca.fit_transform(X)\n",
    "# X_reduced.shape"
   ]
  }
 ],
 "metadata": {
  "kernelspec": {
   "display_name": "Python 3",
   "language": "python",
   "name": "python3"
  },
  "language_info": {
   "codemirror_mode": {
    "name": "ipython",
    "version": 3
   },
   "file_extension": ".py",
   "mimetype": "text/x-python",
   "name": "python",
   "nbconvert_exporter": "python",
   "pygments_lexer": "ipython3",
   "version": "3.7.3"
  }
 },
 "nbformat": 4,
 "nbformat_minor": 4
}

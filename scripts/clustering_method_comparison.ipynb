{
 "cells": [
  {
   "cell_type": "code",
   "execution_count": 1,
   "metadata": {},
   "outputs": [],
   "source": [
    "# local dependencies\n",
    "from load import *\n",
    "from plots import *\n",
    "from clustering_helpers import *\n",
    "from constants import *\n",
    "from helpers import *"
   ]
  },
  {
   "cell_type": "markdown",
   "metadata": {},
   "source": [
    "***\n",
    "**Cluster analysis**\n",
    "***"
   ]
  },
  {
   "cell_type": "markdown",
   "metadata": {},
   "source": [
    "In this notebook, we will perform cluster analysis on both the PDX and the tumor patient datasets. To support the interpretation and evaluation of clustering models, we will compute the [silhouette coefficient](https://scikit-learn.org/stable/modules/generated/sklearn.metrics.silhouette_score.html) and the [Davis-Boudin index](https://scikit-learn.org/stable/modules/generated/sklearn.metrics.davies_bouldin_score.html). For the PDX dataset we will also compute the [adjusted Rand index](https://scikit-learn.org/stable/modules/generated/sklearn.metrics.adjusted_rand_score.html).\n",
    "The clustering methods used for the analysis are [Agglomerative Clustering](), [K-means](), and [Spectral Clustering]()."
   ]
  },
  {
   "cell_type": "markdown",
   "metadata": {},
   "source": [
    "*PDX dataset*"
   ]
  },
  {
   "cell_type": "code",
   "execution_count": 2,
   "metadata": {},
   "outputs": [],
   "source": [
    "pdx = load_pdx()\n",
    "X_pdx = pdx.drop(columns=\"label\")\n",
    "y_pdx = pdx.label"
   ]
  },
  {
   "cell_type": "code",
   "execution_count": null,
   "metadata": {},
   "outputs": [
    {
     "name": "stdout",
     "output_type": "stream",
     "text": [
      "REMINDER: Lower the DB index value, better is the clustering\n",
      "agglomerative db for 2 clusters: 0.72\n",
      "agglomerative db for 3 clusters: 1.03\n",
      "agglomerative db for 4 clusters: 0.88\n",
      "agglomerative db for 5 clusters: 0.77\n",
      "agglomerative db for 6 clusters: 0.65\n",
      "kmeans db for 2 clusters: 1.37\n",
      "kmeans db for 3 clusters: 1.02\n",
      "kmeans db for 4 clusters: 0.91\n",
      "kmeans db for 5 clusters: 0.83\n",
      "kmeans db for 6 clusters: 0.84\n",
      "spectral db for 2 clusters: 2.24\n",
      "spectral db for 3 clusters: 2.21\n",
      "spectral db for 4 clusters: 2.13\n",
      "spectral db for 5 clusters: 1.39\n",
      "spectral db for 6 clusters: 1.56\n",
      "meanshift db for 2 clusters: 0.77\n",
      "meanshift db for 3 clusters: 0.77\n",
      "meanshift db for 4 clusters: 0.77\n",
      "meanshift db for 5 clusters: 0.77\n",
      "meanshift db for 6 clusters: 0.77\n",
      "agglomerative score for 2 clusters: 0.03\n",
      "agglomerative score for 3 clusters: 0.02\n",
      "agglomerative score for 4 clusters: -0.03\n",
      "agglomerative score for 5 clusters: 0.02\n",
      "agglomerative score for 6 clusters: 0.01\n",
      "kmeans score for 2 clusters: 0.01\n",
      "kmeans score for 3 clusters: -0.06\n",
      "kmeans score for 4 clusters: 0.03\n",
      "kmeans score for 5 clusters: 0.11\n",
      "kmeans score for 6 clusters: 0.18\n",
      "spectral score for 2 clusters: 0.04\n",
      "spectral score for 3 clusters: 0.06\n",
      "spectral score for 4 clusters: 0.14\n",
      "spectral score for 5 clusters: 0.06\n",
      "spectral score for 6 clusters: 0.18\n",
      "meanshift score for 2 clusters: 0.02\n",
      "meanshift score for 3 clusters: 0.02\n",
      "meanshift score for 4 clusters: 0.02\n",
      "meanshift score for 5 clusters: 0.02\n",
      "meanshift score for 6 clusters: 0.02\n",
      "agglomerative silhouette for 2 clusters: 0.18\n",
      "agglomerative silhouette for 3 clusters: 0.27\n",
      "agglomerative silhouette for 4 clusters: 0.36\n",
      "agglomerative silhouette for 5 clusters: 0.41\n",
      "agglomerative silhouette for 6 clusters: 0.38\n",
      "kmeans silhouette for 2 clusters: 0.32\n",
      "kmeans silhouette for 3 clusters: 0.37\n",
      "kmeans silhouette for 4 clusters: 0.42\n",
      "kmeans silhouette for 5 clusters: 0.42\n",
      "kmeans silhouette for 6 clusters: 0.40\n",
      "spectral silhouette for 2 clusters: 0.18\n",
      "spectral silhouette for 3 clusters: 0.10\n",
      "spectral silhouette for 4 clusters: 0.07\n",
      "spectral silhouette for 5 clusters: 0.18\n",
      "spectral silhouette for 6 clusters: -0.00\n",
      "meanshift silhouette for 2 clusters: 0.41\n",
      "meanshift silhouette for 3 clusters: 0.41\n",
      "meanshift silhouette for 4 clusters: 0.41\n",
      "meanshift silhouette for 5 clusters: 0.41\n",
      "meanshift silhouette for 6 clusters: 0.41\n"
     ]
    }
   ],
   "source": [
    "test_all_methods(X_pdx, y_pdx, with_score=True)"
   ]
  },
  {
   "cell_type": "code",
   "execution_count": null,
   "metadata": {},
   "outputs": [],
   "source": [
    "X_pdx_stdized = pdx_standardize(X_pdx)"
   ]
  },
  {
   "cell_type": "code",
   "execution_count": null,
   "metadata": {},
   "outputs": [],
   "source": [
    "test_all_methods(X_pdx_stdized, y_pdx, with_score=True)"
   ]
  },
  {
   "cell_type": "markdown",
   "metadata": {},
   "source": [
    "*Patient dataset*"
   ]
  },
  {
   "cell_type": "code",
   "execution_count": null,
   "metadata": {},
   "outputs": [],
   "source": [
    "patients2 = load_patients2()\n",
    "pats_log = np.log(patients2 + .1)  # add a small constant because log(0) is undefined\n",
    "pats_log_stdized = df_standardize_columns(pats_log)"
   ]
  },
  {
   "cell_type": "code",
   "execution_count": null,
   "metadata": {},
   "outputs": [],
   "source": [
    "test_all_methods(pats_log_stdized)"
   ]
  }
 ],
 "metadata": {
  "kernelspec": {
   "display_name": "Python 3",
   "language": "python",
   "name": "python3"
  },
  "language_info": {
   "codemirror_mode": {
    "name": "ipython",
    "version": 3
   },
   "file_extension": ".py",
   "mimetype": "text/x-python",
   "name": "python",
   "nbconvert_exporter": "python",
   "pygments_lexer": "ipython3",
   "version": "3.7.5"
  }
 },
 "nbformat": 4,
 "nbformat_minor": 4
}
